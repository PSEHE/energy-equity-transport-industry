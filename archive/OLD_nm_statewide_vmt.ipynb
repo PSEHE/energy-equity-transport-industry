{
 "cells": [
  {
   "cell_type": "code",
   "execution_count": 2,
   "metadata": {},
   "outputs": [],
   "source": [
    "import numpy as np\n",
    "import matplotlib.pyplot as plt\n",
    "import matplotlib as mpl\n",
    "import pandas as pd"
   ]
  },
  {
   "cell_type": "code",
   "execution_count": 3,
   "metadata": {},
   "outputs": [
    {
     "ename": "FileNotFoundError",
     "evalue": "[Errno 2] No such file or directory: '../Transportation/NM_VMTbyRoadSegment_byVehicleType_2018_April2020.csv'",
     "output_type": "error",
     "traceback": [
      "\u001b[0;31m---------------------------------------------------------------------------\u001b[0m",
      "\u001b[0;31mFileNotFoundError\u001b[0m                         Traceback (most recent call last)",
      "\u001b[0;32m<ipython-input-3-078bbbcbe4e0>\u001b[0m in \u001b[0;36m<module>\u001b[0;34m\u001b[0m\n\u001b[0;32m----> 1\u001b[0;31m \u001b[0mtraffic\u001b[0m \u001b[0;34m=\u001b[0m \u001b[0mpd\u001b[0m\u001b[0;34m.\u001b[0m\u001b[0mread_csv\u001b[0m\u001b[0;34m(\u001b[0m\u001b[0;34m'../Transportation/NM_VMTbyRoadSegment_byVehicleType_2018_April2020.csv'\u001b[0m\u001b[0;34m)\u001b[0m\u001b[0;34m\u001b[0m\u001b[0;34m\u001b[0m\u001b[0m\n\u001b[0m",
      "\u001b[0;32m/opt/anaconda3/lib/python3.8/site-packages/pandas/io/parsers.py\u001b[0m in \u001b[0;36mread_csv\u001b[0;34m(filepath_or_buffer, sep, delimiter, header, names, index_col, usecols, squeeze, prefix, mangle_dupe_cols, dtype, engine, converters, true_values, false_values, skipinitialspace, skiprows, skipfooter, nrows, na_values, keep_default_na, na_filter, verbose, skip_blank_lines, parse_dates, infer_datetime_format, keep_date_col, date_parser, dayfirst, cache_dates, iterator, chunksize, compression, thousands, decimal, lineterminator, quotechar, quoting, doublequote, escapechar, comment, encoding, dialect, error_bad_lines, warn_bad_lines, delim_whitespace, low_memory, memory_map, float_precision)\u001b[0m\n\u001b[1;32m    684\u001b[0m     )\n\u001b[1;32m    685\u001b[0m \u001b[0;34m\u001b[0m\u001b[0m\n\u001b[0;32m--> 686\u001b[0;31m     \u001b[0;32mreturn\u001b[0m \u001b[0m_read\u001b[0m\u001b[0;34m(\u001b[0m\u001b[0mfilepath_or_buffer\u001b[0m\u001b[0;34m,\u001b[0m \u001b[0mkwds\u001b[0m\u001b[0;34m)\u001b[0m\u001b[0;34m\u001b[0m\u001b[0;34m\u001b[0m\u001b[0m\n\u001b[0m\u001b[1;32m    687\u001b[0m \u001b[0;34m\u001b[0m\u001b[0m\n\u001b[1;32m    688\u001b[0m \u001b[0;34m\u001b[0m\u001b[0m\n",
      "\u001b[0;32m/opt/anaconda3/lib/python3.8/site-packages/pandas/io/parsers.py\u001b[0m in \u001b[0;36m_read\u001b[0;34m(filepath_or_buffer, kwds)\u001b[0m\n\u001b[1;32m    450\u001b[0m \u001b[0;34m\u001b[0m\u001b[0m\n\u001b[1;32m    451\u001b[0m     \u001b[0;31m# Create the parser.\u001b[0m\u001b[0;34m\u001b[0m\u001b[0;34m\u001b[0m\u001b[0;34m\u001b[0m\u001b[0m\n\u001b[0;32m--> 452\u001b[0;31m     \u001b[0mparser\u001b[0m \u001b[0;34m=\u001b[0m \u001b[0mTextFileReader\u001b[0m\u001b[0;34m(\u001b[0m\u001b[0mfp_or_buf\u001b[0m\u001b[0;34m,\u001b[0m \u001b[0;34m**\u001b[0m\u001b[0mkwds\u001b[0m\u001b[0;34m)\u001b[0m\u001b[0;34m\u001b[0m\u001b[0;34m\u001b[0m\u001b[0m\n\u001b[0m\u001b[1;32m    453\u001b[0m \u001b[0;34m\u001b[0m\u001b[0m\n\u001b[1;32m    454\u001b[0m     \u001b[0;32mif\u001b[0m \u001b[0mchunksize\u001b[0m \u001b[0;32mor\u001b[0m \u001b[0miterator\u001b[0m\u001b[0;34m:\u001b[0m\u001b[0;34m\u001b[0m\u001b[0;34m\u001b[0m\u001b[0m\n",
      "\u001b[0;32m/opt/anaconda3/lib/python3.8/site-packages/pandas/io/parsers.py\u001b[0m in \u001b[0;36m__init__\u001b[0;34m(self, f, engine, **kwds)\u001b[0m\n\u001b[1;32m    934\u001b[0m             \u001b[0mself\u001b[0m\u001b[0;34m.\u001b[0m\u001b[0moptions\u001b[0m\u001b[0;34m[\u001b[0m\u001b[0;34m\"has_index_names\"\u001b[0m\u001b[0;34m]\u001b[0m \u001b[0;34m=\u001b[0m \u001b[0mkwds\u001b[0m\u001b[0;34m[\u001b[0m\u001b[0;34m\"has_index_names\"\u001b[0m\u001b[0;34m]\u001b[0m\u001b[0;34m\u001b[0m\u001b[0;34m\u001b[0m\u001b[0m\n\u001b[1;32m    935\u001b[0m \u001b[0;34m\u001b[0m\u001b[0m\n\u001b[0;32m--> 936\u001b[0;31m         \u001b[0mself\u001b[0m\u001b[0;34m.\u001b[0m\u001b[0m_make_engine\u001b[0m\u001b[0;34m(\u001b[0m\u001b[0mself\u001b[0m\u001b[0;34m.\u001b[0m\u001b[0mengine\u001b[0m\u001b[0;34m)\u001b[0m\u001b[0;34m\u001b[0m\u001b[0;34m\u001b[0m\u001b[0m\n\u001b[0m\u001b[1;32m    937\u001b[0m \u001b[0;34m\u001b[0m\u001b[0m\n\u001b[1;32m    938\u001b[0m     \u001b[0;32mdef\u001b[0m \u001b[0mclose\u001b[0m\u001b[0;34m(\u001b[0m\u001b[0mself\u001b[0m\u001b[0;34m)\u001b[0m\u001b[0;34m:\u001b[0m\u001b[0;34m\u001b[0m\u001b[0;34m\u001b[0m\u001b[0m\n",
      "\u001b[0;32m/opt/anaconda3/lib/python3.8/site-packages/pandas/io/parsers.py\u001b[0m in \u001b[0;36m_make_engine\u001b[0;34m(self, engine)\u001b[0m\n\u001b[1;32m   1166\u001b[0m     \u001b[0;32mdef\u001b[0m \u001b[0m_make_engine\u001b[0m\u001b[0;34m(\u001b[0m\u001b[0mself\u001b[0m\u001b[0;34m,\u001b[0m \u001b[0mengine\u001b[0m\u001b[0;34m=\u001b[0m\u001b[0;34m\"c\"\u001b[0m\u001b[0;34m)\u001b[0m\u001b[0;34m:\u001b[0m\u001b[0;34m\u001b[0m\u001b[0;34m\u001b[0m\u001b[0m\n\u001b[1;32m   1167\u001b[0m         \u001b[0;32mif\u001b[0m \u001b[0mengine\u001b[0m \u001b[0;34m==\u001b[0m \u001b[0;34m\"c\"\u001b[0m\u001b[0;34m:\u001b[0m\u001b[0;34m\u001b[0m\u001b[0;34m\u001b[0m\u001b[0m\n\u001b[0;32m-> 1168\u001b[0;31m             \u001b[0mself\u001b[0m\u001b[0;34m.\u001b[0m\u001b[0m_engine\u001b[0m \u001b[0;34m=\u001b[0m \u001b[0mCParserWrapper\u001b[0m\u001b[0;34m(\u001b[0m\u001b[0mself\u001b[0m\u001b[0;34m.\u001b[0m\u001b[0mf\u001b[0m\u001b[0;34m,\u001b[0m \u001b[0;34m**\u001b[0m\u001b[0mself\u001b[0m\u001b[0;34m.\u001b[0m\u001b[0moptions\u001b[0m\u001b[0;34m)\u001b[0m\u001b[0;34m\u001b[0m\u001b[0;34m\u001b[0m\u001b[0m\n\u001b[0m\u001b[1;32m   1169\u001b[0m         \u001b[0;32melse\u001b[0m\u001b[0;34m:\u001b[0m\u001b[0;34m\u001b[0m\u001b[0;34m\u001b[0m\u001b[0m\n\u001b[1;32m   1170\u001b[0m             \u001b[0;32mif\u001b[0m \u001b[0mengine\u001b[0m \u001b[0;34m==\u001b[0m \u001b[0;34m\"python\"\u001b[0m\u001b[0;34m:\u001b[0m\u001b[0;34m\u001b[0m\u001b[0;34m\u001b[0m\u001b[0m\n",
      "\u001b[0;32m/opt/anaconda3/lib/python3.8/site-packages/pandas/io/parsers.py\u001b[0m in \u001b[0;36m__init__\u001b[0;34m(self, src, **kwds)\u001b[0m\n\u001b[1;32m   1996\u001b[0m         \u001b[0mkwds\u001b[0m\u001b[0;34m[\u001b[0m\u001b[0;34m\"usecols\"\u001b[0m\u001b[0;34m]\u001b[0m \u001b[0;34m=\u001b[0m \u001b[0mself\u001b[0m\u001b[0;34m.\u001b[0m\u001b[0musecols\u001b[0m\u001b[0;34m\u001b[0m\u001b[0;34m\u001b[0m\u001b[0m\n\u001b[1;32m   1997\u001b[0m \u001b[0;34m\u001b[0m\u001b[0m\n\u001b[0;32m-> 1998\u001b[0;31m         \u001b[0mself\u001b[0m\u001b[0;34m.\u001b[0m\u001b[0m_reader\u001b[0m \u001b[0;34m=\u001b[0m \u001b[0mparsers\u001b[0m\u001b[0;34m.\u001b[0m\u001b[0mTextReader\u001b[0m\u001b[0;34m(\u001b[0m\u001b[0msrc\u001b[0m\u001b[0;34m,\u001b[0m \u001b[0;34m**\u001b[0m\u001b[0mkwds\u001b[0m\u001b[0;34m)\u001b[0m\u001b[0;34m\u001b[0m\u001b[0;34m\u001b[0m\u001b[0m\n\u001b[0m\u001b[1;32m   1999\u001b[0m         \u001b[0mself\u001b[0m\u001b[0;34m.\u001b[0m\u001b[0munnamed_cols\u001b[0m \u001b[0;34m=\u001b[0m \u001b[0mself\u001b[0m\u001b[0;34m.\u001b[0m\u001b[0m_reader\u001b[0m\u001b[0;34m.\u001b[0m\u001b[0munnamed_cols\u001b[0m\u001b[0;34m\u001b[0m\u001b[0;34m\u001b[0m\u001b[0m\n\u001b[1;32m   2000\u001b[0m \u001b[0;34m\u001b[0m\u001b[0m\n",
      "\u001b[0;32mpandas/_libs/parsers.pyx\u001b[0m in \u001b[0;36mpandas._libs.parsers.TextReader.__cinit__\u001b[0;34m()\u001b[0m\n",
      "\u001b[0;32mpandas/_libs/parsers.pyx\u001b[0m in \u001b[0;36mpandas._libs.parsers.TextReader._setup_parser_source\u001b[0;34m()\u001b[0m\n",
      "\u001b[0;31mFileNotFoundError\u001b[0m: [Errno 2] No such file or directory: '../Transportation/NM_VMTbyRoadSegment_byVehicleType_2018_April2020.csv'"
     ]
    }
   ],
   "source": [
    "traffic = pd.read_csv('../Transportation/NM_VMTbyRoadSegment_byVehicleType_2018_April2020.csv')"
   ]
  },
  {
   "cell_type": "code",
   "execution_count": null,
   "metadata": {},
   "outputs": [],
   "source": [
    "traffic.head()"
   ]
  },
  {
   "cell_type": "code",
   "execution_count": 16,
   "metadata": {},
   "outputs": [],
   "source": [
    "cols = traffic.columns"
   ]
  },
  {
   "cell_type": "code",
   "execution_count": 17,
   "metadata": {},
   "outputs": [
    {
     "name": "stdout",
     "output_type": "stream",
     "text": [
      "['VMT_MC_Class 1', 'VMT_PC_Class 2', 'VMT_LT_Class 3', 'VMT_Bus_Class 4', 'VMT_SU_Class 5', 'VMT_SU_Class 6', 'VMT_SU_Class 7', 'VMT_CT_Class 8', 'VMT_CT_Class 9', 'VMT_CT_Class 10', 'VMT_CT_Class 11', 'VMT_CT_Class 12', 'VMT_CT_Class 13']\n"
     ]
    }
   ],
   "source": [
    "vmt_cols = cols[cols.str.contains('VMT')]\n",
    "vmt_cols = list(vmt_cols)\n",
    "print(vmt_cols)"
   ]
  },
  {
   "cell_type": "code",
   "execution_count": 18,
   "metadata": {},
   "outputs": [
    {
     "name": "stdout",
     "output_type": "stream",
     "text": [
      "              Route  Beg_MP     End_MP     Length   LOCAL_ID  FUNCCODE  \\\n",
      "0          BIA1001P     0.0   4.365095   4.365095  3700901.0       6.0   \n",
      "1          BIA1004P     0.0   2.741813   2.741813    50917.0       6.0   \n",
      "2            BIA10P     0.0  13.297981  13.297981    21302.0       6.0   \n",
      "3           BIA110P     0.0   2.725038   2.725038    21302.0       6.0   \n",
      "4             BIA1P     0.0   1.304494   1.304494    51634.0       6.0   \n",
      "...             ...     ...        ...        ...        ...       ...   \n",
      "80708  USX84P182.0T     0.0   0.285976   0.285976    27510.0       3.0   \n",
      "80709  USX84P182.0U     0.0   0.138115   0.138115    27511.0       3.0   \n",
      "80710  USX84P183.0A     0.0   0.224021   0.224021    51435.0       3.0   \n",
      "80711  USX84P183.0G     0.0   0.216660   0.216660    51436.0       3.0   \n",
      "80712  USX84P183.0T     0.0   0.349929   0.349929    51437.0       3.0   \n",
      "\n",
      "      POP_CODE  AADT  AADT_MC_Class 1  AADT_PC_Class 2  ...  VMT_Bus_Class 4  \\\n",
      "0            R   340                0                0  ...         0.000000   \n",
      "1            R   322                9              169  ...         5.483626   \n",
      "2            R   311                8              162  ...        26.595962   \n",
      "3            R   311                0                0  ...         0.000000   \n",
      "4            U   340               10              177  ...         2.608988   \n",
      "...        ...   ...              ...              ...  ...              ...   \n",
      "80708        R  5971               90             3407  ...        12.010992   \n",
      "80709        R  4352               72             2419  ...         4.695910   \n",
      "80710        R  3723               68             2029  ...         7.392693   \n",
      "80711        R  3723               68             2029  ...         7.149780   \n",
      "80712        R  3723               68             2029  ...        11.547657   \n",
      "\n",
      "       VMT_SU_Class 5  VMT_SU_Class 6  VMT_SU_Class 7  VMT_CT_Class 8  \\\n",
      "0            0.000000        0.000000        0.000000        0.000000   \n",
      "1           30.159943       10.967252        0.000000       13.709065   \n",
      "2          146.277791       53.191924        0.000000       53.191924   \n",
      "3            0.000000        0.000000        0.000000        0.000000   \n",
      "4           15.653928        5.217976        0.000000        6.522470   \n",
      "...               ...             ...             ...             ...   \n",
      "80708       72.065952       12.010992        5.147568       32.315288   \n",
      "80709       29.418495        4.695910        1.795495       13.535270   \n",
      "80710       44.132137        7.392693        3.136294       19.937869   \n",
      "80711       42.682020        7.149780        3.033240       19.282740   \n",
      "80712       68.936013       11.547657        4.899006       31.143681   \n",
      "\n",
      "       VMT_CT_Class 9  VMT_CT_Class 10  VMT_CT_Class 11  VMT_CT_Class 12  \\\n",
      "0            0.000000         0.000000         0.000000         0.000000   \n",
      "1           30.159943         2.741813         0.000000         2.741813   \n",
      "2          146.277791        13.297981         0.000000        13.297981   \n",
      "3            0.000000         0.000000         0.000000         0.000000   \n",
      "4           15.653928         1.304494         0.000000         1.304494   \n",
      "...               ...              ...              ...              ...   \n",
      "80708       92.370248        10.295136         3.431712         8.579280   \n",
      "80709       37.014820         4.005335         1.243035         3.038530   \n",
      "80710       55.333187         5.600525         2.464231         4.032378   \n",
      "80711       53.515020         5.416500         2.383260         3.899880   \n",
      "80712       86.432463         8.748225         3.849219         6.298722   \n",
      "\n",
      "       VMT_CT_Class 13  \n",
      "0             0.000000  \n",
      "1             2.741813  \n",
      "2            13.297981  \n",
      "3             0.000000  \n",
      "4             1.304494  \n",
      "...                ...  \n",
      "80708         5.147568  \n",
      "80709         1.795495  \n",
      "80710         2.464231  \n",
      "80711         2.383260  \n",
      "80712         3.849219  \n",
      "\n",
      "[80713 rows x 34 columns]\n"
     ]
    }
   ],
   "source": [
    "print(traffic)"
   ]
  },
  {
   "cell_type": "code",
   "execution_count": 19,
   "metadata": {},
   "outputs": [],
   "source": [
    "traffic['FUNCCODE'].replace({1.0: 'Interstate', 2.0: 'Freeway/Expressway', 3.0: 'Other Principal Arterial', 4.0: 'Minor Arterial', 5.0: 'Major Collector', 6.0: 'Minor Collector', 7.0: 'Local Road or Street'}, inplace=True)"
   ]
  },
  {
   "cell_type": "code",
   "execution_count": 20,
   "metadata": {},
   "outputs": [],
   "source": [
    "traffic = traffic.sum()"
   ]
  },
  {
   "cell_type": "code",
   "execution_count": 21,
   "metadata": {},
   "outputs": [],
   "source": [
    "traffic = traffic[vmt_cols]"
   ]
  },
  {
   "cell_type": "code",
   "execution_count": 22,
   "metadata": {},
   "outputs": [
    {
     "data": {
      "text/plain": [
       "VMT_MC_Class 1      1.3717e+06\n",
       "VMT_PC_Class 2     4.06464e+07\n",
       "VMT_LT_Class 3     1.26395e+07\n",
       "VMT_Bus_Class 4         351811\n",
       "VMT_SU_Class 5      1.8133e+06\n",
       "VMT_SU_Class 6          448976\n",
       "VMT_SU_Class 7          136751\n",
       "VMT_CT_Class 8          751211\n",
       "VMT_CT_Class 9     2.30576e+06\n",
       "VMT_CT_Class 10         231656\n",
       "VMT_CT_Class 11         123618\n",
       "VMT_CT_Class 12         360815\n",
       "VMT_CT_Class 13         271382\n",
       "dtype: object"
      ]
     },
     "execution_count": 22,
     "metadata": {},
     "output_type": "execute_result"
    }
   ],
   "source": [
    "traffic"
   ]
  },
  {
   "cell_type": "code",
   "execution_count": 23,
   "metadata": {},
   "outputs": [],
   "source": [
    "#traffic.columns = [column.replace('VMT_','') for column in traffic]"
   ]
  },
  {
   "cell_type": "code",
   "execution_count": 24,
   "metadata": {},
   "outputs": [
    {
     "data": {
      "image/png": "[encoded data removed]",
      "text/plain": [
       "<Figure size 936x576 with 1 Axes>"
      ]
     },
     "metadata": {
      "needs_background": "light"
     },
     "output_type": "display_data"
    }
   ],
   "source": [
    "fig, ax = plt.subplots()\n",
    "traffic.plot(kind='bar', stacked = True, figsize=(13,8),ax=ax)\n",
    "ax.ticklabel_format(style='plain', axis='y')\n",
    "ax.yaxis.set_major_formatter(mpl.ticker.StrMethodFormatter('{x:,.0f}'))\n",
    "ax.set_xlabel('')\n",
    "ax.set_ylabel('Vehicle Miles Travelled')\n",
    "ax.set_title('New Mexico VMT by FHWA Functional System')\n",
    "ax.spines['right'].set_visible(False)\n",
    "ax.spines['top'].set_visible(False)\n",
    "ax.yaxis.set_ticks_position('left')\n",
    "ax.xaxis.set_ticks_position('bottom')\n",
    "\n",
    "fig.savefig(('figures/nm_vmt_byfuncsystem.pdf'), bbox_inches='tight', transparent=True,dpi=800)\n"
   ]
  },
  {
   "cell_type": "code",
   "execution_count": null,
   "metadata": {},
   "outputs": [],
   "source": []
  }
 ],
 "metadata": {
  "kernelspec": {
   "display_name": "Python 3",
   "language": "python",
   "name": "python3"
  },
  "language_info": {
   "codemirror_mode": {
    "name": "ipython",
    "version": 3
   },
   "file_extension": ".py",
   "mimetype": "text/x-python",
   "name": "python",
   "nbconvert_exporter": "python",
   "pygments_lexer": "ipython3",
   "version": "3.8.3"
  }
 },
 "nbformat": 4,
 "nbformat_minor": 4
}
