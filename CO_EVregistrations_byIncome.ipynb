{
 "cells": [
  {
   "cell_type": "code",
   "execution_count": 2,
   "metadata": {},
   "outputs": [],
   "source": [
    "import numpy as np\n",
    "import matplotlib.pyplot as plt\n",
    "%matplotlib inline\n",
    "import pandas as pd\n",
    "from datetime import date\n",
    "\n",
    "pd.set_option('display.max_columns', None)"
   ]
  },
  {
   "cell_type": "code",
   "execution_count": 3,
   "metadata": {},
   "outputs": [],
   "source": [
    "co_zips = pd.read_csv('../Demographics/CO_zip_codes_2016.csv')\n",
    "co_zips = co_zips[['zip_code']]\n",
    "co_zips['zip_code'] = co_zips['zip_code'].astype(str)\n",
    "co_zips.rename(columns={'zip_code':'ZIP Code'},inplace=True)\n",
    "co_zips.set_index('ZIP Code',inplace=True)"
   ]
  },
  {
   "cell_type": "code",
   "execution_count": 44,
   "metadata": {},
   "outputs": [],
   "source": [
    "zcta_income = pd.read_excel('../Demographics/MHI_ZCTA_ACS5YR1418.xlsx')\n",
    "zcta_income = zcta_income[['ZCTA', 'Median Household Income']]\n",
    "zcta_income = zcta_income.replace(r'ZCTA5 ','',regex=True)\n",
    "zcta_income.rename(columns={'ZCTA': 'ZIP Code'}, inplace=True)\n",
    "zcta_income.set_index('ZIP Code',inplace=True)\n",
    "\n",
    "zcta_households = pd.read_excel('../Demographics/Households_ZCTA_ACS5YR201418.xlsx')\n",
    "zcta_households = zcta_households[['ZCTA', 'Total Households']]\n",
    "zcta_households = zcta_households.replace(r'ZCTA5 ','',regex=True)\n",
    "zcta_households.rename(columns={'ZCTA': 'ZIP Code'}, inplace=True)\n",
    "zcta_households.set_index('ZIP Code',inplace=True)\n",
    "\n",
    "income_hhs = zcta_income.merge(zcta_households, how = 'outer',left_index=True, right_index=True)"
   ]
  },
  {
   "cell_type": "code",
   "execution_count": 46,
   "metadata": {},
   "outputs": [
    {
     "data": {
      "text/html": [
       "<div>\n",
       "<style scoped>\n",
       "    .dataframe tbody tr th:only-of-type {\n",
       "        vertical-align: middle;\n",
       "    }\n",
       "\n",
       "    .dataframe tbody tr th {\n",
       "        vertical-align: top;\n",
       "    }\n",
       "\n",
       "    .dataframe thead th {\n",
       "        text-align: right;\n",
       "    }\n",
       "</style>\n",
       "<table border=\"1\" class=\"dataframe\">\n",
       "  <thead>\n",
       "    <tr style=\"text-align: right;\">\n",
       "      <th></th>\n",
       "      <th>Median Household Income</th>\n",
       "      <th>Total Households</th>\n",
       "    </tr>\n",
       "    <tr>\n",
       "      <th>ZIP Code</th>\n",
       "      <th></th>\n",
       "      <th></th>\n",
       "    </tr>\n",
       "  </thead>\n",
       "  <tbody>\n",
       "    <tr>\n",
       "      <th>80002</th>\n",
       "      <td>59099.0</td>\n",
       "      <td>8239</td>\n",
       "    </tr>\n",
       "    <tr>\n",
       "      <th>80003</th>\n",
       "      <td>65957.0</td>\n",
       "      <td>14420</td>\n",
       "    </tr>\n",
       "    <tr>\n",
       "      <th>80004</th>\n",
       "      <td>75794.0</td>\n",
       "      <td>14964</td>\n",
       "    </tr>\n",
       "    <tr>\n",
       "      <th>80005</th>\n",
       "      <td>101313.0</td>\n",
       "      <td>11176</td>\n",
       "    </tr>\n",
       "    <tr>\n",
       "      <th>80007</th>\n",
       "      <td>140610.0</td>\n",
       "      <td>4282</td>\n",
       "    </tr>\n",
       "    <tr>\n",
       "      <th>...</th>\n",
       "      <td>...</td>\n",
       "      <td>...</td>\n",
       "    </tr>\n",
       "    <tr>\n",
       "      <th>81654</th>\n",
       "      <td>60833.0</td>\n",
       "      <td>434</td>\n",
       "    </tr>\n",
       "    <tr>\n",
       "      <th>81655</th>\n",
       "      <td>NaN</td>\n",
       "      <td>15</td>\n",
       "    </tr>\n",
       "    <tr>\n",
       "      <th>81656</th>\n",
       "      <td>NaN</td>\n",
       "      <td>98</td>\n",
       "    </tr>\n",
       "    <tr>\n",
       "      <th>81657</th>\n",
       "      <td>76466.0</td>\n",
       "      <td>2330</td>\n",
       "    </tr>\n",
       "    <tr>\n",
       "      <th>82063</th>\n",
       "      <td>NaN</td>\n",
       "      <td>122</td>\n",
       "    </tr>\n",
       "  </tbody>\n",
       "</table>\n",
       "<p>526 rows × 2 columns</p>\n",
       "</div>"
      ],
      "text/plain": [
       "          Median Household Income  Total Households\n",
       "ZIP Code                                           \n",
       "80002                     59099.0              8239\n",
       "80003                     65957.0             14420\n",
       "80004                     75794.0             14964\n",
       "80005                    101313.0             11176\n",
       "80007                    140610.0              4282\n",
       "...                           ...               ...\n",
       "81654                     60833.0               434\n",
       "81655                         NaN                15\n",
       "81656                         NaN                98\n",
       "81657                     76466.0              2330\n",
       "82063                         NaN               122\n",
       "\n",
       "[526 rows x 2 columns]"
      ]
     },
     "execution_count": 46,
     "metadata": {},
     "output_type": "execute_result"
    }
   ],
   "source": [
    "co_zctas = income_hhs[income_hhs.index.isin(co_zips.index)]\n",
    "co_zctas"
   ]
  },
  {
   "cell_type": "code",
   "execution_count": 47,
   "metadata": {},
   "outputs": [
    {
     "name": "stderr",
     "output_type": "stream",
     "text": [
      "<ipython-input-47-cf56ee8816bd>:3: SettingWithCopyWarning: \n",
      "A value is trying to be set on a copy of a slice from a DataFrame.\n",
      "Try using .loc[row_indexer,col_indexer] = value instead\n",
      "\n",
      "See the caveats in the documentation: https://pandas.pydata.org/pandas-docs/stable/user_guide/indexing.html#returning-a-view-versus-a-copy\n",
      "  colorado_evs_current['# Registrations'] = colorado_evs_current.groupby('ZIP Code')['VIN Prefix'].transform('count')\n"
     ]
    }
   ],
   "source": [
    "colorado_evs = pd.read_excel('../Transportation/co_ev_registrations_public.xlsx')\n",
    "colorado_evs_current = colorado_evs[colorado_evs['DMV Snapshot']=='CO DMV Direct (10/1/2020)']\n",
    "colorado_evs_current['# Registrations'] = colorado_evs_current.groupby('ZIP Code')['VIN Prefix'].transform('count')\n",
    "colorado_evs_current = colorado_evs_current[['ZIP Code', '# Registrations']]\n",
    "colorado_evs_current.drop_duplicates(subset=['ZIP Code'],inplace=True)\n",
    "colorado_evs_current.set_index('ZIP Code', inplace=True)\n",
    "colorado_evs_current.index = colorado_evs_current.index.astype(str)\n",
    "\n",
    "#The next two lines would filter by registrations that are valid previous to today's date, and expire after today's date.\n",
    "#colorado_evs_active = colorado_evs[(colorado_evs['Registration Expiration Date'] > today_date)]\n",
    "#colorado_evs_active = colorado_evs_active[(colorado_evs_active['Registration Valid Date'] < today_date)]"
   ]
  },
  {
   "cell_type": "code",
   "execution_count": 48,
   "metadata": {},
   "outputs": [],
   "source": [
    "combined = co_zctas.merge(colorado_evs_current, how = 'left', left_index=True, right_index=True)\n",
    "combined['# Registrations'] = combined['# Registrations'].fillna(0)"
   ]
  },
  {
   "cell_type": "code",
   "execution_count": 49,
   "metadata": {},
   "outputs": [],
   "source": [
    "combined['MHI Percentile'] = combined['Median Household Income'].rank(pct=True)"
   ]
  },
  {
   "cell_type": "code",
   "execution_count": 53,
   "metadata": {},
   "outputs": [],
   "source": [
    "combined.loc[combined['MHI Percentile']==1, 'MHI Percentile']=.999"
   ]
  },
  {
   "cell_type": "code",
   "execution_count": 56,
   "metadata": {},
   "outputs": [],
   "source": [
    "combined.to_csv('../Evolved/my outputs/co_EVreg_ZCTAs.csv')"
   ]
  },
  {
   "cell_type": "code",
   "execution_count": null,
   "metadata": {},
   "outputs": [],
   "source": []
  }
 ],
 "metadata": {
  "kernelspec": {
   "display_name": "Python 3",
   "language": "python",
   "name": "python3"
  },
  "language_info": {
   "codemirror_mode": {
    "name": "ipython",
    "version": 3
   },
   "file_extension": ".py",
   "mimetype": "text/x-python",
   "name": "python",
   "nbconvert_exporter": "python",
   "pygments_lexer": "ipython3",
   "version": "3.8.3"
  }
 },
 "nbformat": 4,
 "nbformat_minor": 4
}
