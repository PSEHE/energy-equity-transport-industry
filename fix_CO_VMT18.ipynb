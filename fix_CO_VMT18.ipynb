{
 "cells": [
  {
   "cell_type": "code",
   "execution_count": 23,
   "metadata": {},
   "outputs": [],
   "source": [
    "import numpy as np\n",
    "import matplotlib.pyplot as plt\n",
    "%matplotlib inline\n",
    "import pandas as pd\n",
    "\n",
    "pd.set_option('display.max_columns', None)"
   ]
  },
  {
   "cell_type": "code",
   "execution_count": 24,
   "metadata": {},
   "outputs": [],
   "source": [
    "hpms = pd.read_csv('Transportation/CO_VMT18/co_aadt_2018_updated.csv')\n",
    "hpms.drop(columns='Unnamed: 0',inplace=True)\n",
    "hpms['begin_point']=hpms['begin_point'].round(3)\n",
    "hpms['end_point']=hpms['end_point'].round(3)\n",
    "hpms['unique_route'] = hpms['route_id']+'_'+hpms['begin_point'].astype(str)+'-'+hpms['end_point'].astype(str)\n",
    "hpms.set_index('unique_route',inplace=True)"
   ]
  },
  {
   "cell_type": "code",
   "execution_count": 26,
   "metadata": {},
   "outputs": [],
   "source": [
    "aadt_cols = ['aadt_Motorcycle',\n",
    "       'aadt_PassengerCars', 'aadt_LightTrucks', 'aadt_Buses', 'aadt_SUtrucks',\n",
    "       'aadt_CUtrucks']"
   ]
  },
  {
   "cell_type": "code",
   "execution_count": 27,
   "metadata": {},
   "outputs": [],
   "source": [
    "vmt_cols = ['vmt_Motorcycle',\n",
    "       'vmt_PassengerCars', 'vmt_LightTrucks', 'vmt_Buses', 'vmt_SUtrucks',\n",
    "       'vmt_CUtrucks']"
   ]
  },
  {
   "cell_type": "code",
   "execution_count": 28,
   "metadata": {},
   "outputs": [],
   "source": [
    "co_vmt18 = pd.read_csv('Transportation/CO_VMT18/CO_VMT18.csv')"
   ]
  },
  {
   "cell_type": "code",
   "execution_count": 29,
   "metadata": {},
   "outputs": [],
   "source": [
    "missing_truck_inds = co_vmt18['aadt_SUtrucks'].isna() & co_vmt18['aadt_CUtrucks'].isna()"
   ]
  },
  {
   "cell_type": "code",
   "execution_count": 30,
   "metadata": {},
   "outputs": [],
   "source": [
    "for uniqueroute in co_vmt18[missing_truck_inds]['unique_route'].unique():\n",
    "    hpms_uniqueroute = hpms.loc[uniqueroute]\n",
    "    co_vmt18_uniqueroute_inds = co_vmt18['unique_route']==uniqueroute\n",
    "    aadt_SUtrucks = hpms_uniqueroute['aadt_SU trucks']\n",
    "    aadt_CUtrucks = hpms_uniqueroute['aadt_CU trucks']\n",
    "    missingtruck_uniqueroute_inds = missing_truck_inds & co_vmt18_uniqueroute_inds\n",
    "    segment_mi = co_vmt18.loc[missingtruck_uniqueroute_inds,'segment_mi']\n",
    "    prop_area = co_vmt18.loc[missingtruck_uniqueroute_inds,'prop_area']\n",
    "    co_vmt18.loc[missingtruck_uniqueroute_inds,'aadt_SUtrucks']= aadt_SUtrucks\n",
    "    co_vmt18.loc[missingtruck_uniqueroute_inds,'aadt_CUtrucks']= aadt_CUtrucks\n",
    "    co_vmt18.loc[missingtruck_uniqueroute_inds,'vmt_SUtrucks'] = aadt_SUtrucks * segment_mi * prop_area\n",
    "    co_vmt18.loc[missingtruck_uniqueroute_inds,'vmt_CUtrucks'] = aadt_CUtrucks * segment_mi * prop_area\n",
    "    "
   ]
  },
  {
   "cell_type": "code",
   "execution_count": 31,
   "metadata": {},
   "outputs": [],
   "source": [
    "co_vmt18['vmt_Total'] = co_vmt18[vmt_cols].sum(axis=1)"
   ]
  },
  {
   "cell_type": "code",
   "execution_count": 32,
   "metadata": {},
   "outputs": [],
   "source": [
    "co_vmt18.to_csv('Transportation/CO_VMT18_fixed.csv')"
   ]
  },
  {
   "cell_type": "code",
   "execution_count": null,
   "metadata": {},
   "outputs": [],
   "source": []
  }
 ],
 "metadata": {
  "kernelspec": {
   "display_name": "Python 3",
   "language": "python",
   "name": "python3"
  },
  "language_info": {
   "codemirror_mode": {
    "name": "ipython",
    "version": 3
   },
   "file_extension": ".py",
   "mimetype": "text/x-python",
   "name": "python",
   "nbconvert_exporter": "python",
   "pygments_lexer": "ipython3",
   "version": "3.8.3"
  }
 },
 "nbformat": 4,
 "nbformat_minor": 4
}
