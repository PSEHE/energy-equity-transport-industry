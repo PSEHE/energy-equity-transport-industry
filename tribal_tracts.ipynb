{
 "cells": [
  {
   "cell_type": "code",
   "execution_count": 61,
   "metadata": {},
   "outputs": [],
   "source": [
    "import numpy as np\n",
    "import matplotlib.pyplot as plt\n",
    "np.random.seed(1)\n",
    "import matplotlib as mpl\n",
    "import pandas as pd"
   ]
  },
  {
   "cell_type": "code",
   "execution_count": 62,
   "metadata": {},
   "outputs": [],
   "source": [
    "tribal = pd.read_excel('../Demographics/2010 Census Tract to AIA Tract Relationship (US Census Bureau).xlsx')"
   ]
  },
  {
   "cell_type": "code",
   "execution_count": 63,
   "metadata": {},
   "outputs": [],
   "source": [
    "tribal['STATEFP'] = tribal['STATEFP'].astype(str)\n",
    "tribal['COUNTYFP'] = tribal['COUNTYFP'].astype(str)\n",
    "tribal['TRACTCE'] = tribal['TRACTCE'].astype(str)"
   ]
  },
  {
   "cell_type": "code",
   "execution_count": 64,
   "metadata": {},
   "outputs": [],
   "source": [
    "tribal['STATEFP'] = tribal['STATEFP'].apply(lambda x: x.zfill(2))\n",
    "tribal['COUNTYFP'] = tribal['COUNTYFP'].apply(lambda x: x.zfill(3))\n",
    "tribal['TRACTCE'] = tribal['TRACTCE'].apply(lambda x: x.zfill(6))"
   ]
  },
  {
   "cell_type": "code",
   "execution_count": 65,
   "metadata": {},
   "outputs": [],
   "source": [
    "tribal['GEOID'] = tribal['STATEFP'] + tribal['COUNTYFP'] + tribal['TRACTCE']"
   ]
  },
  {
   "cell_type": "code",
   "execution_count": 66,
   "metadata": {},
   "outputs": [],
   "source": [
    "western_state_fips = ['08','32','35']\n",
    "western_state_inds = tribal['STATEFP'].isin(western_state_fips)\n",
    "\n",
    "western_state_tribal = tribal[western_state_inds]"
   ]
  },
  {
   "cell_type": "code",
   "execution_count": 67,
   "metadata": {},
   "outputs": [],
   "source": [
    "western_state_tribal = western_state_tribal[['STATEFP','GEOID','NAME','PERCENT_AREA','PERCENT_POP','PERCENT_HU']]"
   ]
  },
  {
   "cell_type": "code",
   "execution_count": 68,
   "metadata": {},
   "outputs": [],
   "source": [
    "western_state_tribal.rename(columns={'STATEFP':'STATE','NAME':'TRIBAL_NAME','PERCENT_AREA':'TRIBAL_AREA_FRACTION',\n",
    "                                    'PERCENT_POP':'TRIBAL_POP_FRACTION','PERCENT_HU':'TRIBAL_HH_FRACTION'},inplace=True)"
   ]
  },
  {
   "cell_type": "code",
   "execution_count": 70,
   "metadata": {},
   "outputs": [],
   "source": [
    "western_state_tribal.to_csv('../Demographics/nvnmco_tribalArea_censusTract_popAREAhh_overlap.csv')"
   ]
  },
  {
   "cell_type": "code",
   "execution_count": 71,
   "metadata": {},
   "outputs": [
    {
     "data": {
      "text/html": [
       "<div>\n",
       "<style scoped>\n",
       "    .dataframe tbody tr th:only-of-type {\n",
       "        vertical-align: middle;\n",
       "    }\n",
       "\n",
       "    .dataframe tbody tr th {\n",
       "        vertical-align: top;\n",
       "    }\n",
       "\n",
       "    .dataframe thead th {\n",
       "        text-align: right;\n",
       "    }\n",
       "</style>\n",
       "<table border=\"1\" class=\"dataframe\">\n",
       "  <thead>\n",
       "    <tr style=\"text-align: right;\">\n",
       "      <th></th>\n",
       "      <th>STATE</th>\n",
       "      <th>GEOID</th>\n",
       "      <th>TRIBAL_NAME</th>\n",
       "      <th>TRIBAL_AREA_FRACTION</th>\n",
       "      <th>TRIBAL_POP_FRACTION</th>\n",
       "      <th>TRIBAL_HH_FRACTION</th>\n",
       "    </tr>\n",
       "  </thead>\n",
       "  <tbody>\n",
       "    <tr>\n",
       "      <th>601</th>\n",
       "      <td>08</td>\n",
       "      <td>08007940400</td>\n",
       "      <td>Southern Ute Reservation</td>\n",
       "      <td>1.000000</td>\n",
       "      <td>1.000000</td>\n",
       "      <td>1.000000</td>\n",
       "    </tr>\n",
       "    <tr>\n",
       "      <th>602</th>\n",
       "      <td>08</td>\n",
       "      <td>08067940300</td>\n",
       "      <td>Southern Ute Reservation</td>\n",
       "      <td>1.000000</td>\n",
       "      <td>1.000000</td>\n",
       "      <td>1.000000</td>\n",
       "    </tr>\n",
       "    <tr>\n",
       "      <th>603</th>\n",
       "      <td>08</td>\n",
       "      <td>08067940400</td>\n",
       "      <td>Southern Ute Reservation</td>\n",
       "      <td>0.944337</td>\n",
       "      <td>1.000000</td>\n",
       "      <td>1.000000</td>\n",
       "    </tr>\n",
       "    <tr>\n",
       "      <th>604</th>\n",
       "      <td>08</td>\n",
       "      <td>08067940400</td>\n",
       "      <td>Ute Mountain Reservation and Off-Reservation T...</td>\n",
       "      <td>0.055663</td>\n",
       "      <td>0.000000</td>\n",
       "      <td>0.000000</td>\n",
       "    </tr>\n",
       "    <tr>\n",
       "      <th>605</th>\n",
       "      <td>08</td>\n",
       "      <td>08067970701</td>\n",
       "      <td>Southern Ute Reservation</td>\n",
       "      <td>0.001316</td>\n",
       "      <td>0.003299</td>\n",
       "      <td>0.006002</td>\n",
       "    </tr>\n",
       "    <tr>\n",
       "      <th>...</th>\n",
       "      <td>...</td>\n",
       "      <td>...</td>\n",
       "      <td>...</td>\n",
       "      <td>...</td>\n",
       "      <td>...</td>\n",
       "      <td>...</td>\n",
       "    </tr>\n",
       "    <tr>\n",
       "      <th>1234</th>\n",
       "      <td>35</td>\n",
       "      <td>35055940100</td>\n",
       "      <td>Taos Pueblo and Off-Reservation Trust Land</td>\n",
       "      <td>0.847355</td>\n",
       "      <td>0.568686</td>\n",
       "      <td>0.590738</td>\n",
       "    </tr>\n",
       "    <tr>\n",
       "      <th>1235</th>\n",
       "      <td>35</td>\n",
       "      <td>35057963600</td>\n",
       "      <td>Isleta Pueblo</td>\n",
       "      <td>0.023492</td>\n",
       "      <td>0.000000</td>\n",
       "      <td>0.000000</td>\n",
       "    </tr>\n",
       "    <tr>\n",
       "      <th>1236</th>\n",
       "      <td>35</td>\n",
       "      <td>35061940300</td>\n",
       "      <td>Isleta Pueblo</td>\n",
       "      <td>1.000000</td>\n",
       "      <td>1.000000</td>\n",
       "      <td>1.000000</td>\n",
       "    </tr>\n",
       "    <tr>\n",
       "      <th>1237</th>\n",
       "      <td>35</td>\n",
       "      <td>35061971300</td>\n",
       "      <td>Laguna Pueblo and Off-Reservation Trust Land</td>\n",
       "      <td>0.215333</td>\n",
       "      <td>0.002407</td>\n",
       "      <td>0.004283</td>\n",
       "    </tr>\n",
       "    <tr>\n",
       "      <th>1238</th>\n",
       "      <td>35</td>\n",
       "      <td>35061971400</td>\n",
       "      <td>Isleta Pueblo</td>\n",
       "      <td>0.482440</td>\n",
       "      <td>0.019406</td>\n",
       "      <td>0.027092</td>\n",
       "    </tr>\n",
       "  </tbody>\n",
       "</table>\n",
       "<p>149 rows × 6 columns</p>\n",
       "</div>"
      ],
      "text/plain": [
       "     STATE        GEOID                                        TRIBAL_NAME  \\\n",
       "601     08  08007940400                           Southern Ute Reservation   \n",
       "602     08  08067940300                           Southern Ute Reservation   \n",
       "603     08  08067940400                           Southern Ute Reservation   \n",
       "604     08  08067940400  Ute Mountain Reservation and Off-Reservation T...   \n",
       "605     08  08067970701                           Southern Ute Reservation   \n",
       "...    ...          ...                                                ...   \n",
       "1234    35  35055940100         Taos Pueblo and Off-Reservation Trust Land   \n",
       "1235    35  35057963600                                      Isleta Pueblo   \n",
       "1236    35  35061940300                                      Isleta Pueblo   \n",
       "1237    35  35061971300       Laguna Pueblo and Off-Reservation Trust Land   \n",
       "1238    35  35061971400                                      Isleta Pueblo   \n",
       "\n",
       "      TRIBAL_AREA_FRACTION  TRIBAL_POP_FRACTION  TRIBAL_HH_FRACTION  \n",
       "601               1.000000             1.000000            1.000000  \n",
       "602               1.000000             1.000000            1.000000  \n",
       "603               0.944337             1.000000            1.000000  \n",
       "604               0.055663             0.000000            0.000000  \n",
       "605               0.001316             0.003299            0.006002  \n",
       "...                    ...                  ...                 ...  \n",
       "1234              0.847355             0.568686            0.590738  \n",
       "1235              0.023492             0.000000            0.000000  \n",
       "1236              1.000000             1.000000            1.000000  \n",
       "1237              0.215333             0.002407            0.004283  \n",
       "1238              0.482440             0.019406            0.027092  \n",
       "\n",
       "[149 rows x 6 columns]"
      ]
     },
     "execution_count": 71,
     "metadata": {},
     "output_type": "execute_result"
    }
   ],
   "source": [
    "western_state_tribal"
   ]
  },
  {
   "cell_type": "code",
   "execution_count": null,
   "metadata": {},
   "outputs": [],
   "source": []
  }
 ],
 "metadata": {
  "kernelspec": {
   "display_name": "Python 3",
   "language": "python",
   "name": "python3"
  },
  "language_info": {
   "codemirror_mode": {
    "name": "ipython",
    "version": 3
   },
   "file_extension": ".py",
   "mimetype": "text/x-python",
   "name": "python",
   "nbconvert_exporter": "python",
   "pygments_lexer": "ipython3",
   "version": "3.8.3"
  }
 },
 "nbformat": 4,
 "nbformat_minor": 4
}
