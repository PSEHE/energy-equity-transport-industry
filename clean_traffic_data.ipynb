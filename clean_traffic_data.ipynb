{
 "cells": [
  {
   "cell_type": "code",
   "execution_count": 1,
   "metadata": {},
   "outputs": [],
   "source": [
    "import numpy as np\n",
    "import matplotlib.pyplot as plt\n",
    "%matplotlib inline\n",
    "import pandas as pd\n",
    "\n",
    "pd.set_option('display.max_columns', None)"
   ]
  },
  {
   "cell_type": "markdown",
   "metadata": {},
   "source": [
    "## Colorado traffic data: clean up and apply VMT breakdown from CDPHE"
   ]
  },
  {
   "cell_type": "code",
   "execution_count": 37,
   "metadata": {},
   "outputs": [],
   "source": [
    "#CDPHE 2017 VMT breakdown by functional system classification and rural/urban. The breakdown is for weekday travel. \n",
    "cdphe = pd.read_excel('../Transportation/Colorado/CDPHE_VMTbreakdown_byHPMStype_byRoadType.xlsx', skiprows=1)\n",
    "cdphe = cdphe.groupby(['Rural?','FC']).mean().reset_index()\n",
    "cdphe.drop(columns='NAA?', inplace=True)\n",
    "cdphe['func_R/U'] = cdphe['Rural?']+'_'+cdphe['FC'].astype(str)\n",
    "cdphe.set_index('func_R/U', inplace=True)"
   ]
  },
  {
   "cell_type": "code",
   "execution_count": 38,
   "metadata": {},
   "outputs": [],
   "source": [
    "vehicle_cols = ['Motorcycle', 'Passenger cars','Light trucks', 'Buses', 'SU trucks', 'CU trucks']"
   ]
  },
  {
   "cell_type": "code",
   "execution_count": 39,
   "metadata": {},
   "outputs": [],
   "source": [
    "cotraffic = pd.read_csv('../Transportation/Colorado/CO_aadt_2018.csv')\n",
    "cotraffic.loc[cotraffic['urban_code']==99999,'Rural?'] = 'R'\n",
    "cotraffic.loc[cotraffic['urban_code']!=99999,'Rural?'] = 'U'\n",
    "cotraffic['func_R/U'] = cotraffic['Rural?']+'_'+cotraffic['f_system'].astype(str)"
   ]
  },
  {
   "cell_type": "code",
   "execution_count": 40,
   "metadata": {},
   "outputs": [],
   "source": [
    "allna_inds = cotraffic['aadt'].isna()& cotraffic['aadt_combination'].isna()& cotraffic['aadt_single_unit'].isna()\n",
    "cotraffic.drop(cotraffic[allna_inds].index, inplace=True)"
   ]
  },
  {
   "cell_type": "code",
   "execution_count": 41,
   "metadata": {},
   "outputs": [],
   "source": [
    "truckna_inds = cotraffic['aadt_combination'].isna() & cotraffic['aadt_single_unit'].isna()"
   ]
  },
  {
   "cell_type": "code",
   "execution_count": 7,
   "metadata": {},
   "outputs": [],
   "source": [
    "for col in vehicle_cols:\n",
    "    cotraffic['aadt_'+col] = 0\n",
    "    \n",
    "cotraffic['aadt_CU trucks'] = cotraffic['aadt_combination']\n",
    "cotraffic['aadt_SU trucks'] = cotraffic['aadt_single_unit']\n",
    "cotraffic.drop(columns=['aadt_combination','aadt_single_unit'],inplace=True)\n",
    "\n",
    "for roadtype in cotraffic['func_R/U'].unique():\n",
    "    roadtype_inds = cotraffic['func_R/U']==roadtype\n",
    "    breakdown = cdphe.loc[roadtype]\n",
    "    road_truckna_inds = roadtype_inds & truckna_inds\n",
    "    for col in vehicle_cols:\n",
    "        aadt_frac = breakdown[col]\n",
    "        cotraffic.loc[road_truckna_inds,'aadt_'+col] = aadt_frac * cotraffic[road_truckna_inds]['aadt']"
   ]
  },
  {
   "cell_type": "code",
   "execution_count": 8,
   "metadata": {},
   "outputs": [],
   "source": [
    "light_cols = ['Motorcycle', 'Passenger cars','Light trucks', 'Buses']\n",
    "normalizer = cdphe[light_cols].sum(axis=1)\n",
    "leftover_aadt = cotraffic['aadt'] - cotraffic['aadt_CU trucks'] - cotraffic['aadt_SU trucks']\n",
    "for roadtype in cotraffic['func_R/U'].unique():\n",
    "    roadtype_inds = cotraffic['func_R/U']==roadtype\n",
    "    renormalized_breakdown = cdphe.loc[roadtype, light_cols] / normalizer.loc[roadtype]\n",
    "    road_with_truck_inds = roadtype_inds & ~truckna_inds\n",
    "    for col in light_cols:\n",
    "        cotraffic.loc[road_with_truck_inds,'aadt_'+col] = leftover_aadt[road_with_truck_inds]*renormalized_breakdown[col]"
   ]
  },
  {
   "cell_type": "code",
   "execution_count": 9,
   "metadata": {},
   "outputs": [],
   "source": [
    "cotraffic.to_csv('../Transportation/Colorado/co_aadt_2018_updated.csv')"
   ]
  },
  {
   "cell_type": "markdown",
   "metadata": {},
   "source": [
    "## Nevada traffic data: clean up and granularize"
   ]
  },
  {
   "cell_type": "code",
   "execution_count": 10,
   "metadata": {},
   "outputs": [],
   "source": [
    "#HPMS 2018 VM-4 VMT distribution by road category and rural/urban.\n",
    "hpms_nv = pd.read_csv('../Transportation/HPMS_VM4_2018_NevadaVMTbreakdown_byRoadType_byRuralUrban.csv')\n",
    "hpms_nv.drop(columns={'Total','Unnamed: 10'}, inplace = True)\n",
    "hpms_nv['roadcategory_R/U'] = hpms_nv['Road Type']+'_'+hpms_nv['Rural?'].astype(str)\n",
    "hpms_nv[vehicle_cols] = hpms_nv[vehicle_cols]/100\n",
    "hpms_nv.set_index('roadcategory_R/U', inplace=True)"
   ]
  },
  {
   "cell_type": "code",
   "execution_count": 11,
   "metadata": {},
   "outputs": [],
   "source": [
    "mapping = {1: 'Interstate',\n",
    "           2: 'Other Arterials',\n",
    "           3: 'Other Arterials',\n",
    "           4: 'Other Arterials',\n",
    "           5: 'Other',\n",
    "           6: 'Other',\n",
    "           7: 'Other'\n",
    "           }"
   ]
  },
  {
   "cell_type": "code",
   "execution_count": 12,
   "metadata": {},
   "outputs": [],
   "source": [
    "nvtraffic = pd.read_csv('../Transportation/Nevada/NV_HPMS_aadt_2018.csv')"
   ]
  },
  {
   "cell_type": "code",
   "execution_count": 13,
   "metadata": {},
   "outputs": [],
   "source": [
    "for fsystem in nvtraffic['f_system'].unique():\n",
    "    road_category = mapping[fsystem]\n",
    "    fsystem_inds = nvtraffic['f_system'] == fsystem\n",
    "    nvtraffic.loc[fsystem_inds,'road_category'] = road_category"
   ]
  },
  {
   "cell_type": "code",
   "execution_count": 14,
   "metadata": {},
   "outputs": [],
   "source": [
    "nvtraffic.loc[nvtraffic['urban_code']==99999,'Rural?'] = 'R'\n",
    "nvtraffic.loc[nvtraffic['urban_code']!=99999,'Rural?'] = 'U'\n",
    "nvtraffic['roadcategory_R/U'] = nvtraffic['road_category']+'_'+nvtraffic['Rural?'].astype(str)"
   ]
  },
  {
   "cell_type": "code",
   "execution_count": 15,
   "metadata": {},
   "outputs": [],
   "source": [
    "allna_inds = nvtraffic['aadt'].isna()& nvtraffic['aadt_combination'].isna()& nvtraffic['aadt_single_unit'].isna()\n",
    "nvtraffic.drop(nvtraffic[allna_inds].index, inplace=True)"
   ]
  },
  {
   "cell_type": "code",
   "execution_count": 16,
   "metadata": {},
   "outputs": [],
   "source": [
    "combna_inds = nvtraffic['aadt_combination'].isna() \n",
    "singna_inds = nvtraffic['aadt_single_unit'].isna()\n",
    "truckna_inds = combna_inds & singna_inds\n",
    "#clark_inds = nvtraffic['county_code']== 3"
   ]
  },
  {
   "cell_type": "code",
   "execution_count": 17,
   "metadata": {},
   "outputs": [],
   "source": [
    "for col in vehicle_cols:\n",
    "    nvtraffic['aadt_'+col] = 0\n",
    "    \n",
    "nvtraffic['aadt_CU trucks'] = nvtraffic['aadt_combination']\n",
    "nvtraffic['aadt_SU trucks'] = nvtraffic['aadt_single_unit']\n",
    "nvtraffic.drop(columns=['aadt_combination','aadt_single_unit'],inplace=True)\n",
    "\n",
    "for roadtype in nvtraffic['roadcategory_R/U'].unique():\n",
    "    roadtype_inds = nvtraffic['roadcategory_R/U']==roadtype\n",
    "    breakdown = hpms_nv.loc[roadtype]\n",
    "    road_truckna_inds = roadtype_inds & truckna_inds\n",
    "    for col in vehicle_cols:\n",
    "        aadt_frac = breakdown[col]\n",
    "        nvtraffic.loc[road_truckna_inds,'aadt_'+col] = aadt_frac * nvtraffic[road_truckna_inds]['aadt']"
   ]
  },
  {
   "cell_type": "code",
   "execution_count": 18,
   "metadata": {},
   "outputs": [],
   "source": [
    "exceptcomb_cols_nv = ['Motorcycle', 'Passenger cars','Light trucks', 'Buses','SU trucks']\n",
    "normalizer_exceptcomb = hpms_nv[exceptcomb_cols_nv].sum(axis=1)\n",
    "leftover_aadt_nocomb_nv = nvtraffic['aadt'] - nvtraffic['aadt_CU trucks'] \n",
    "for roadtype in nvtraffic['roadcategory_R/U'].unique():\n",
    "    roadtype_inds = nvtraffic['roadcategory_R/U']==roadtype\n",
    "    renormalized_breakdown = hpms_nv.loc[roadtype, exceptcomb_cols_nv] / normalizer_exceptcomb.loc[roadtype]\n",
    "    road_with_singna_inds = roadtype_inds & singna_inds & ~combna_inds\n",
    "    for col in exceptcomb_cols_nv:\n",
    "        nvtraffic.loc[road_with_singna_inds,'aadt_'+col] = leftover_aadt_nocomb_nv[road_with_singna_inds]*renormalized_breakdown[col]\n",
    "        "
   ]
  },
  {
   "cell_type": "code",
   "execution_count": 19,
   "metadata": {},
   "outputs": [],
   "source": [
    "light_cols_nv = ['Motorcycle', 'Passenger cars','Light trucks', 'Buses']\n",
    "normalizer_light = hpms_nv[light_cols].sum(axis=1)\n",
    "leftover_aadt_nv = nvtraffic['aadt'] - nvtraffic['aadt_CU trucks'] - nvtraffic['aadt_SU trucks']\n",
    "for roadtype in nvtraffic['roadcategory_R/U'].unique():\n",
    "    roadtype_inds = nvtraffic['roadcategory_R/U']==roadtype\n",
    "    renormalized_breakdown_light = hpms_nv.loc[roadtype, light_cols_nv] / normalizer_light.loc[roadtype]\n",
    "    road_with_truck_inds = roadtype_inds & ~truckna_inds\n",
    "    for col in light_cols:\n",
    "        nvtraffic.loc[road_with_truck_inds,'aadt_'+col] = leftover_aadt_nv[road_with_truck_inds]*renormalized_breakdown_light[col]\n",
    "        "
   ]
  },
  {
   "cell_type": "code",
   "execution_count": 20,
   "metadata": {},
   "outputs": [],
   "source": [
    "nvtraffic.to_csv('../Transportation/Nevada/nv_aadt_2018_updated.csv')"
   ]
  },
  {
   "cell_type": "markdown",
   "metadata": {},
   "source": [
    "## New Mexico traffic data: clean up and granularize"
   ]
  },
  {
   "cell_type": "code",
   "execution_count": 21,
   "metadata": {},
   "outputs": [],
   "source": [
    "nmtraffic = pd.read_csv('../Transportation/New Mexico/NM_VMTbyRoadSegment_byVehicleType_2018_April2020.csv')\n",
    "nmtraffic.loc[nmtraffic['FUNCCODE'].isna(),'FUNCCODE'] = 7.0\n",
    "nmtraffic['FUNC_POP'] = nmtraffic['FUNCCODE'].astype(str)+'_'+ nmtraffic['POP_CODE']\n"
   ]
  },
  {
   "cell_type": "code",
   "execution_count": 22,
   "metadata": {},
   "outputs": [],
   "source": [
    "vmt_cols = ['VMT_MC_Class 1',\n",
    "       'VMT_PC_Class 2', 'VMT_LT_Class 3', 'VMT_Bus_Class 4', 'VMT_SU_Class 5',\n",
    "       'VMT_SU_Class 6', 'VMT_SU_Class 7', 'VMT_CT_Class 8', 'VMT_CT_Class 9',\n",
    "       'VMT_CT_Class 10', 'VMT_CT_Class 11', 'VMT_CT_Class 12',\n",
    "       'VMT_CT_Class 13']"
   ]
  },
  {
   "cell_type": "code",
   "execution_count": 23,
   "metadata": {},
   "outputs": [],
   "source": [
    "aadt_cols = ['AADT_MC_Class 1', 'AADT_PC_Class 2',\n",
    "       'AADT_LT_Class 3', 'AADT_Bus_Class 4', 'AADT_SU_Class 5',\n",
    "       'AADT_SU_Class 6', 'AADT_SU_Class 7', 'AADT_CT_Class 8',\n",
    "       'AADT_CT_Class 9', 'AADT_CT_Class 10', 'AADT_CT_Class 11',\n",
    "       'AADT_CT_Class 12', 'AADT_CT_Class 13']"
   ]
  },
  {
   "cell_type": "code",
   "execution_count": 24,
   "metadata": {},
   "outputs": [],
   "source": [
    "missing_breakdown_inds = nmtraffic[aadt_cols].sum(axis=1) == 0\n",
    "breakdown = nmtraffic[~missing_breakdown_inds]"
   ]
  },
  {
   "cell_type": "code",
   "execution_count": 25,
   "metadata": {},
   "outputs": [],
   "source": [
    "grouped = breakdown.groupby(['FUNC_POP'])[vmt_cols].sum()\n",
    "for col in grouped:\n",
    "    grouped['frac_'+col] = 0"
   ]
  },
  {
   "cell_type": "code",
   "execution_count": 26,
   "metadata": {},
   "outputs": [],
   "source": [
    "for funcpop in grouped.index:\n",
    "    denom = grouped.loc[funcpop][vmt_cols].sum()\n",
    "    for col in grouped[vmt_cols]:\n",
    "        grouped.loc[funcpop,'frac_'+col] = grouped.loc[funcpop][col] / denom\n",
    "        \n",
    "grouped.drop(columns = vmt_cols,inplace=True)\n",
    "grouped.columns = [column.replace('frac_VMT_','AADT_') for column in grouped]"
   ]
  },
  {
   "cell_type": "code",
   "execution_count": 27,
   "metadata": {},
   "outputs": [],
   "source": [
    "for funcpop in grouped.index:\n",
    "    funcpop_inds = nmtraffic['FUNC_POP'] == funcpop\n",
    "    for col in aadt_cols:\n",
    "        frac = grouped.loc[funcpop][col]\n",
    "        nmtraffic.loc[missing_breakdown_inds & funcpop_inds,col] = frac * nmtraffic[missing_breakdown_inds & funcpop_inds]['AADT']\n",
    "        \n",
    "nmtraffic.drop(columns=vmt_cols+['FUNC_POP'], inplace=True)"
   ]
  },
  {
   "cell_type": "code",
   "execution_count": 28,
   "metadata": {},
   "outputs": [],
   "source": [
    "nmtraffic.to_csv('../Transportation/New Mexico/nmdetail_aadt_2018_updated.csv')"
   ]
  },
  {
   "cell_type": "code",
   "execution_count": null,
   "metadata": {},
   "outputs": [],
   "source": []
  }
 ],
 "metadata": {
  "kernelspec": {
   "display_name": "Python 3",
   "language": "python",
   "name": "python3"
  },
  "language_info": {
   "codemirror_mode": {
    "name": "ipython",
    "version": 3
   },
   "file_extension": ".py",
   "mimetype": "text/x-python",
   "name": "python",
   "nbconvert_exporter": "python",
   "pygments_lexer": "ipython3",
   "version": "3.8.3"
  }
 },
 "nbformat": 4,
 "nbformat_minor": 4
}
