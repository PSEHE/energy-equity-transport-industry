{
 "cells": [
  {
   "cell_type": "code",
   "execution_count": 2,
   "metadata": {},
   "outputs": [],
   "source": [
    "import numpy as np\n",
    "import matplotlib.pyplot as plt\n",
    "%matplotlib inline\n",
    "import pandas as pd\n",
    "import glob\n",
    "import csv\n",
    "\n",
    "pd.set_option('display.max_columns', None)"
   ]
  },
  {
   "cell_type": "markdown",
   "metadata": {},
   "source": [
    "## Load and format NEI industrial data (CAPs and HAPs emissions by county)"
   ]
  },
  {
   "cell_type": "code",
   "execution_count": 3,
   "metadata": {},
   "outputs": [
    {
     "ename": "FileNotFoundError",
     "evalue": "[Errno 2] No such file or directory: '../Industrial/EPA NEI/2017neiApr_point_facilitylevel/2017neiApr_point.csv'",
     "output_type": "error",
     "traceback": [
      "\u001b[0;31m---------------------------------------------------------------------------\u001b[0m",
      "\u001b[0;31mFileNotFoundError\u001b[0m                         Traceback (most recent call last)",
      "\u001b[0;32m<ipython-input-3-08947f3d93ed>\u001b[0m in \u001b[0;36m<module>\u001b[0;34m\u001b[0m\n\u001b[0;32m----> 1\u001b[0;31m \u001b[0mnei_point\u001b[0m \u001b[0;34m=\u001b[0m \u001b[0mpd\u001b[0m\u001b[0;34m.\u001b[0m\u001b[0mread_csv\u001b[0m\u001b[0;34m(\u001b[0m\u001b[0;34m'../Industrial/EPA NEI/2017neiApr_point_facilitylevel/2017neiApr_point.csv'\u001b[0m\u001b[0;34m,\u001b[0m \u001b[0mlow_memory\u001b[0m\u001b[0;34m=\u001b[0m\u001b[0;32mFalse\u001b[0m\u001b[0;34m)\u001b[0m\u001b[0;34m\u001b[0m\u001b[0;34m\u001b[0m\u001b[0m\n\u001b[0m\u001b[1;32m      2\u001b[0m \u001b[0mnei_nonpoint\u001b[0m \u001b[0;34m=\u001b[0m \u001b[0mpd\u001b[0m\u001b[0;34m.\u001b[0m\u001b[0mread_csv\u001b[0m\u001b[0;34m(\u001b[0m\u001b[0;34m'../Industrial/EPA NEI/2017neiApr_nonpoint/esg_cty_scc_12961.csv'\u001b[0m\u001b[0;34m,\u001b[0m \u001b[0mlow_memory\u001b[0m\u001b[0;34m=\u001b[0m\u001b[0;32mFalse\u001b[0m\u001b[0;34m)\u001b[0m\u001b[0;34m\u001b[0m\u001b[0;34m\u001b[0m\u001b[0m\n\u001b[1;32m      3\u001b[0m \u001b[0mscc\u001b[0m \u001b[0;34m=\u001b[0m \u001b[0mpd\u001b[0m\u001b[0;34m.\u001b[0m\u001b[0mread_csv\u001b[0m\u001b[0;34m(\u001b[0m\u001b[0;34m'../Industrial/scc_fuelcombustion_oilgas.csv'\u001b[0m\u001b[0;34m)\u001b[0m\u001b[0;34m\u001b[0m\u001b[0;34m\u001b[0m\u001b[0m\n",
      "\u001b[0;32m/opt/anaconda3/lib/python3.8/site-packages/pandas/io/parsers.py\u001b[0m in \u001b[0;36mread_csv\u001b[0;34m(filepath_or_buffer, sep, delimiter, header, names, index_col, usecols, squeeze, prefix, mangle_dupe_cols, dtype, engine, converters, true_values, false_values, skipinitialspace, skiprows, skipfooter, nrows, na_values, keep_default_na, na_filter, verbose, skip_blank_lines, parse_dates, infer_datetime_format, keep_date_col, date_parser, dayfirst, cache_dates, iterator, chunksize, compression, thousands, decimal, lineterminator, quotechar, quoting, doublequote, escapechar, comment, encoding, dialect, error_bad_lines, warn_bad_lines, delim_whitespace, low_memory, memory_map, float_precision)\u001b[0m\n\u001b[1;32m    684\u001b[0m     )\n\u001b[1;32m    685\u001b[0m \u001b[0;34m\u001b[0m\u001b[0m\n\u001b[0;32m--> 686\u001b[0;31m     \u001b[0;32mreturn\u001b[0m \u001b[0m_read\u001b[0m\u001b[0;34m(\u001b[0m\u001b[0mfilepath_or_buffer\u001b[0m\u001b[0;34m,\u001b[0m \u001b[0mkwds\u001b[0m\u001b[0;34m)\u001b[0m\u001b[0;34m\u001b[0m\u001b[0;34m\u001b[0m\u001b[0m\n\u001b[0m\u001b[1;32m    687\u001b[0m \u001b[0;34m\u001b[0m\u001b[0m\n\u001b[1;32m    688\u001b[0m \u001b[0;34m\u001b[0m\u001b[0m\n",
      "\u001b[0;32m/opt/anaconda3/lib/python3.8/site-packages/pandas/io/parsers.py\u001b[0m in \u001b[0;36m_read\u001b[0;34m(filepath_or_buffer, kwds)\u001b[0m\n\u001b[1;32m    450\u001b[0m \u001b[0;34m\u001b[0m\u001b[0m\n\u001b[1;32m    451\u001b[0m     \u001b[0;31m# Create the parser.\u001b[0m\u001b[0;34m\u001b[0m\u001b[0;34m\u001b[0m\u001b[0;34m\u001b[0m\u001b[0m\n\u001b[0;32m--> 452\u001b[0;31m     \u001b[0mparser\u001b[0m \u001b[0;34m=\u001b[0m \u001b[0mTextFileReader\u001b[0m\u001b[0;34m(\u001b[0m\u001b[0mfp_or_buf\u001b[0m\u001b[0;34m,\u001b[0m \u001b[0;34m**\u001b[0m\u001b[0mkwds\u001b[0m\u001b[0;34m)\u001b[0m\u001b[0;34m\u001b[0m\u001b[0;34m\u001b[0m\u001b[0m\n\u001b[0m\u001b[1;32m    453\u001b[0m \u001b[0;34m\u001b[0m\u001b[0m\n\u001b[1;32m    454\u001b[0m     \u001b[0;32mif\u001b[0m \u001b[0mchunksize\u001b[0m \u001b[0;32mor\u001b[0m \u001b[0miterator\u001b[0m\u001b[0;34m:\u001b[0m\u001b[0;34m\u001b[0m\u001b[0;34m\u001b[0m\u001b[0m\n",
      "\u001b[0;32m/opt/anaconda3/lib/python3.8/site-packages/pandas/io/parsers.py\u001b[0m in \u001b[0;36m__init__\u001b[0;34m(self, f, engine, **kwds)\u001b[0m\n\u001b[1;32m    934\u001b[0m             \u001b[0mself\u001b[0m\u001b[0;34m.\u001b[0m\u001b[0moptions\u001b[0m\u001b[0;34m[\u001b[0m\u001b[0;34m\"has_index_names\"\u001b[0m\u001b[0;34m]\u001b[0m \u001b[0;34m=\u001b[0m \u001b[0mkwds\u001b[0m\u001b[0;34m[\u001b[0m\u001b[0;34m\"has_index_names\"\u001b[0m\u001b[0;34m]\u001b[0m\u001b[0;34m\u001b[0m\u001b[0;34m\u001b[0m\u001b[0m\n\u001b[1;32m    935\u001b[0m \u001b[0;34m\u001b[0m\u001b[0m\n\u001b[0;32m--> 936\u001b[0;31m         \u001b[0mself\u001b[0m\u001b[0;34m.\u001b[0m\u001b[0m_make_engine\u001b[0m\u001b[0;34m(\u001b[0m\u001b[0mself\u001b[0m\u001b[0;34m.\u001b[0m\u001b[0mengine\u001b[0m\u001b[0;34m)\u001b[0m\u001b[0;34m\u001b[0m\u001b[0;34m\u001b[0m\u001b[0m\n\u001b[0m\u001b[1;32m    937\u001b[0m \u001b[0;34m\u001b[0m\u001b[0m\n\u001b[1;32m    938\u001b[0m     \u001b[0;32mdef\u001b[0m \u001b[0mclose\u001b[0m\u001b[0;34m(\u001b[0m\u001b[0mself\u001b[0m\u001b[0;34m)\u001b[0m\u001b[0;34m:\u001b[0m\u001b[0;34m\u001b[0m\u001b[0;34m\u001b[0m\u001b[0m\n",
      "\u001b[0;32m/opt/anaconda3/lib/python3.8/site-packages/pandas/io/parsers.py\u001b[0m in \u001b[0;36m_make_engine\u001b[0;34m(self, engine)\u001b[0m\n\u001b[1;32m   1166\u001b[0m     \u001b[0;32mdef\u001b[0m \u001b[0m_make_engine\u001b[0m\u001b[0;34m(\u001b[0m\u001b[0mself\u001b[0m\u001b[0;34m,\u001b[0m \u001b[0mengine\u001b[0m\u001b[0;34m=\u001b[0m\u001b[0;34m\"c\"\u001b[0m\u001b[0;34m)\u001b[0m\u001b[0;34m:\u001b[0m\u001b[0;34m\u001b[0m\u001b[0;34m\u001b[0m\u001b[0m\n\u001b[1;32m   1167\u001b[0m         \u001b[0;32mif\u001b[0m \u001b[0mengine\u001b[0m \u001b[0;34m==\u001b[0m \u001b[0;34m\"c\"\u001b[0m\u001b[0;34m:\u001b[0m\u001b[0;34m\u001b[0m\u001b[0;34m\u001b[0m\u001b[0m\n\u001b[0;32m-> 1168\u001b[0;31m             \u001b[0mself\u001b[0m\u001b[0;34m.\u001b[0m\u001b[0m_engine\u001b[0m \u001b[0;34m=\u001b[0m \u001b[0mCParserWrapper\u001b[0m\u001b[0;34m(\u001b[0m\u001b[0mself\u001b[0m\u001b[0;34m.\u001b[0m\u001b[0mf\u001b[0m\u001b[0;34m,\u001b[0m \u001b[0;34m**\u001b[0m\u001b[0mself\u001b[0m\u001b[0;34m.\u001b[0m\u001b[0moptions\u001b[0m\u001b[0;34m)\u001b[0m\u001b[0;34m\u001b[0m\u001b[0;34m\u001b[0m\u001b[0m\n\u001b[0m\u001b[1;32m   1169\u001b[0m         \u001b[0;32melse\u001b[0m\u001b[0;34m:\u001b[0m\u001b[0;34m\u001b[0m\u001b[0;34m\u001b[0m\u001b[0m\n\u001b[1;32m   1170\u001b[0m             \u001b[0;32mif\u001b[0m \u001b[0mengine\u001b[0m \u001b[0;34m==\u001b[0m \u001b[0;34m\"python\"\u001b[0m\u001b[0;34m:\u001b[0m\u001b[0;34m\u001b[0m\u001b[0;34m\u001b[0m\u001b[0m\n",
      "\u001b[0;32m/opt/anaconda3/lib/python3.8/site-packages/pandas/io/parsers.py\u001b[0m in \u001b[0;36m__init__\u001b[0;34m(self, src, **kwds)\u001b[0m\n\u001b[1;32m   1996\u001b[0m         \u001b[0mkwds\u001b[0m\u001b[0;34m[\u001b[0m\u001b[0;34m\"usecols\"\u001b[0m\u001b[0;34m]\u001b[0m \u001b[0;34m=\u001b[0m \u001b[0mself\u001b[0m\u001b[0;34m.\u001b[0m\u001b[0musecols\u001b[0m\u001b[0;34m\u001b[0m\u001b[0;34m\u001b[0m\u001b[0m\n\u001b[1;32m   1997\u001b[0m \u001b[0;34m\u001b[0m\u001b[0m\n\u001b[0;32m-> 1998\u001b[0;31m         \u001b[0mself\u001b[0m\u001b[0;34m.\u001b[0m\u001b[0m_reader\u001b[0m \u001b[0;34m=\u001b[0m \u001b[0mparsers\u001b[0m\u001b[0;34m.\u001b[0m\u001b[0mTextReader\u001b[0m\u001b[0;34m(\u001b[0m\u001b[0msrc\u001b[0m\u001b[0;34m,\u001b[0m \u001b[0;34m**\u001b[0m\u001b[0mkwds\u001b[0m\u001b[0;34m)\u001b[0m\u001b[0;34m\u001b[0m\u001b[0;34m\u001b[0m\u001b[0m\n\u001b[0m\u001b[1;32m   1999\u001b[0m         \u001b[0mself\u001b[0m\u001b[0;34m.\u001b[0m\u001b[0munnamed_cols\u001b[0m \u001b[0;34m=\u001b[0m \u001b[0mself\u001b[0m\u001b[0;34m.\u001b[0m\u001b[0m_reader\u001b[0m\u001b[0;34m.\u001b[0m\u001b[0munnamed_cols\u001b[0m\u001b[0;34m\u001b[0m\u001b[0;34m\u001b[0m\u001b[0m\n\u001b[1;32m   2000\u001b[0m \u001b[0;34m\u001b[0m\u001b[0m\n",
      "\u001b[0;32mpandas/_libs/parsers.pyx\u001b[0m in \u001b[0;36mpandas._libs.parsers.TextReader.__cinit__\u001b[0;34m()\u001b[0m\n",
      "\u001b[0;32mpandas/_libs/parsers.pyx\u001b[0m in \u001b[0;36mpandas._libs.parsers.TextReader._setup_parser_source\u001b[0;34m()\u001b[0m\n",
      "\u001b[0;31mFileNotFoundError\u001b[0m: [Errno 2] No such file or directory: '../Industrial/EPA NEI/2017neiApr_point_facilitylevel/2017neiApr_point.csv'"
     ]
    }
   ],
   "source": [
    "nei_point = pd.read_csv('../Industrial/EPA NEI/2017neiApr_point_facilitylevel/2017neiApr_point.csv', low_memory=False)\n",
    "nei_nonpoint = pd.read_csv('../Industrial/EPA NEI/2017neiApr_nonpoint/esg_cty_scc_12961.csv', low_memory=False)\n",
    "scc = pd.read_csv('../Industrial/scc_fuelcombustion_oilgas.csv')"
   ]
  },
  {
   "cell_type": "code",
   "execution_count": 4,
   "metadata": {},
   "outputs": [],
   "source": [
    "states = ['CO', 'NM', 'NV']\n",
    "dfs = {}"
   ]
  },
  {
   "cell_type": "code",
   "execution_count": 4,
   "metadata": {},
   "outputs": [
    {
     "name": "stderr",
     "output_type": "stream",
     "text": [
      "/Users/AnnieDillon/anaconda3/lib/python3.7/site-packages/ipykernel_launcher.py:4: SettingWithCopyWarning: \n",
      "A value is trying to be set on a copy of a slice from a DataFrame.\n",
      "Try using .loc[row_indexer,col_indexer] = value instead\n",
      "\n",
      "See the caveats in the documentation: https://pandas.pydata.org/pandas-docs/stable/user_guide/indexing.html#returning-a-view-versus-a-copy\n",
      "  after removing the cwd from sys.path.\n"
     ]
    }
   ],
   "source": [
    "for state in states:\n",
    "    dfs[state] = []\n",
    "    point = nei_point[nei_point['state'] == state]\n",
    "    point['naics code'] = point['naics code'].apply(str)\n",
    "    point = point[[x.startswith(('21', '2212', '324110', '33313', '333132', '4247', '447', '486')) for x in point['naics code']]]\n",
    "    point = point[[x.startswith(('2122', '2123', '213114', '213115', '48699', '486990')) == False for x in point['naics code']]]\n",
    "    dfs[state].append(point)\n",
    "    \n",
    "    nonpoint = nei_nonpoint[nei_nonpoint['state'] == state]\n",
    "    nonpoint = nonpoint[nonpoint['scc'].isin(scc['scc'])]\n",
    "    \n",
    "    nonpoint.insert(loc=10, column='Fuel Type', value='N/A')\n",
    "    fuelcomb_inds = nonpoint['sector'].str.contains('Fuel Comb')\n",
    "    nonpoint.loc[fuelcomb_inds,'Fuel Type'] = nonpoint['sector'].str.split().str[-1]\n",
    "    dfs[state].append(nonpoint)\n",
    "    \n",
    "    #point.to_csv('../Industrial/{}_nei_point_filtered.csv'.format(state))\n",
    "    #nonpoint.to_csv('../Industrial/{}_nei_nonpoint_filtered.csv'.format(state))"
   ]
  },
  {
   "cell_type": "code",
   "execution_count": 5,
   "metadata": {},
   "outputs": [],
   "source": [
    "county_emissions = {}\n",
    "countybysource_emissions = {}\n",
    "\n",
    "for state in states:\n",
    "    point_county = dfs[state][0].groupby(['county','pollutant desc','pollutant type(s)','emissions uom'])['total emissions'].sum().reset_index()\n",
    "    nonpoint_county = dfs[state][1].groupby(['county','pollutant desc','pollutant type(s)','emissions uom'])['total emissions'].sum().reset_index()\n",
    "    county_emissions[state] = pd.concat([point_county, nonpoint_county]).groupby(['county','pollutant desc','pollutant type(s)','emissions uom'])['total emissions'].sum().reset_index()\n",
    "    #county_emissions[state].to_csv('../Industrial/{}_industrialemissions_county.csv'.format(state))\n",
    "    \n",
    "    point_edit = dfs[state][0].rename(columns={'naics description': 'Source Type'})\n",
    "    point_edit['data category'] = 'P'\n",
    "    point_edit.insert(loc=10, column='Fuel Type', value='N/A')\n",
    "    point_bycountysource = point_edit.groupby(['county','data category','Source Type','Fuel Type','pollutant desc','pollutant type(s)','emissions uom'])['total emissions'].sum().reset_index()\n",
    "    nonpoint_edit = dfs[state][1].rename(columns={'sector': 'Source Type'})\n",
    "    nonpoint_bycountysource = nonpoint_edit.groupby(['county','data category','Source Type','Fuel Type','pollutant desc','pollutant type(s)','emissions uom'])['total emissions'].sum().reset_index()\n",
    "    countybysource_emissions[state] = pd.concat([point_bycountysource, nonpoint_bycountysource], ignore_index=True)\n",
    "    \n",
    "    #Reformat dataset for energy equity group analysis. \n",
    "    countybysource_emissions[state].insert(loc=0, column='Year',value='2017')\n",
    "    countybysource_emissions[state].insert(loc=1, column='State',value=state)\n",
    "    countybysource_emissions[state].columns = [x.title() for x in countybysource_emissions[state].columns]\n",
    "    countybysource_emissions[state].insert(loc=3, column='Census Tract',value='')\n",
    "    countybysource_emissions[state].insert(loc=4, column='Sector',value='Industrial')\n",
    "    countybysource_emissions[state].insert(loc=8, column='Fuel Amount',value='')\n",
    "    countybysource_emissions[state].insert(loc=9, column='Fuel Units',value='')\n",
    "    countybysource_emissions[state].rename(columns={'Pollutant Type(S)': 'Pollutant Category'}, inplace=True)\n",
    "    countybysource_emissions[state].rename(columns={'Pollutant Desc':'Pollutant Type'}, inplace=True)\n",
    "    countybysource_emissions[state].rename(columns={'Total Emissions':'Annual Emissions'}, inplace=True)\n",
    "    countybysource_emissions[state].insert(loc=14, column = 'Scenario', value = 'Reference')\n",
    "    \n",
    "    ton_inds = countybysource_emissions[state]['Emissions Uom']=='TON'\n",
    "    lb_inds = countybysource_emissions[state]['Emissions Uom']=='LB'\n",
    "    countybysource_emissions[state].loc[ton_inds,'Annual Emissions'] = countybysource_emissions[state]['Annual Emissions'] * 0.907185\n",
    "    countybysource_emissions[state].loc[lb_inds,'Annual Emissions'] = countybysource_emissions[state]['Annual Emissions'] * 0.000453592\n",
    "    countybysource_emissions[state].drop(columns=['Emissions Uom'], axis=1, inplace=True)\n",
    "    #countybysource_emissions[state].to_csv('../Industrial/Code Outputs/{}_industrialemissions_bycountysource.csv'.format(state))\n",
    "    "
   ]
  },
  {
   "cell_type": "code",
   "execution_count": 6,
   "metadata": {},
   "outputs": [],
   "source": [
    "allstates_countybysource_emissions=pd.concat([countybysource_emissions[state] for state in states], ignore_index=True)"
   ]
  },
  {
   "cell_type": "markdown",
   "metadata": {},
   "source": [
    "## Load EPA GHGRP industrial data (GHG emissions by county)"
   ]
  },
  {
   "cell_type": "markdown",
   "metadata": {},
   "source": [
    "#### Load and format GHG emissions from industrial combustion"
   ]
  },
  {
   "cell_type": "code",
   "execution_count": 7,
   "metadata": {},
   "outputs": [
    {
     "name": "stderr",
     "output_type": "stream",
     "text": [
      "/Users/AnnieDillon/anaconda3/lib/python3.7/site-packages/pandas/core/frame.py:3997: SettingWithCopyWarning: \n",
      "A value is trying to be set on a copy of a slice from a DataFrame\n",
      "\n",
      "See the caveats in the documentation: https://pandas.pydata.org/pandas-docs/stable/user_guide/indexing.html#returning-a-view-versus-a-copy\n",
      "  errors=errors,\n"
     ]
    }
   ],
   "source": [
    "#These datasets need to be assigned to census tracts. Geopandas methods here: https://github.com/geopandas/geopandas/issues/826\n",
    "\n",
    "states =['Colorado', 'Nevada', 'NewMexico']\n",
    "mapping = {\n",
    "    'Colorado':'CO',\n",
    "    'Nevada':'NV',\n",
    "    'NewMexico':'NM',\n",
    "}\n",
    "\n",
    "combustion_path = r'../Industrial/EPA GHGRP/Combustion/*.xls'\n",
    "combustion_dfs = {}\n",
    "\n",
    "for state in states:\n",
    "    combustion_dfs[state]=[]\n",
    "    concat = pd.DataFrame()\n",
    "    for file in glob.glob(combustion_path):\n",
    "        if state in file:\n",
    "            comb=pd.read_excel(file, skiprows=5)\n",
    "            file= file.replace('_',' ')\n",
    "            fueltype = file.split()[-1]\n",
    "            fueltype = fueltype.replace('.xls','')\n",
    "            fueltype = fueltype.replace('Products','')\n",
    "            fueltype = fueltype.replace('Petroleum','Oil')\n",
    "            fueltype = fueltype.replace('NatGas','Natural gas')\n",
    "            comb['Fuel Type'] = fueltype\n",
    "            combustion_dfs[state].append(comb)\n",
    "    for df in combustion_dfs[state]:\n",
    "        concat = pd.concat([concat, df])\n",
    "    combustion_dfs[state]=concat\n",
    "    #This is where assignment to census tracts should happen.\n",
    "    \n",
    "    combustion_dfs[state].columns = [x.title() for x in combustion_dfs[state].columns]\n",
    "    combustion_dfs[state].rename(columns={'Reporting Year': 'Year','Ghg Quantity (Metric Tons Co2E)':'Annual Emissions'}, inplace=True)\n",
    "    combustion_dfs[state].insert(loc=1, column='County',value=combustion_dfs[state]['County Name'].str.title())\n",
    "    #combustion_dfs[state]['County']=combustion_dfs[state]['County'].replace('County','')\n",
    "    combustion_dfs[state].insert(loc=2, column='Census Tract',value='')\n",
    "    combustion_dfs[state].insert(loc=3, column='Sector',value='Industrial')\n",
    "    combustion_dfs[state].insert(loc=4, column='Source Type',value='Fuel Combustion - Industrial')\n",
    "    combustion_dfs[state].insert(loc=5, column='Data Category',value='P')\n",
    "    combustion_dfs[state].insert(loc=6, column='Fuel Amount',value='')\n",
    "    combustion_dfs[state].insert(loc=7, column='Fuel Units',value='')\n",
    "    combustion_dfs[state].insert(loc=8, column='Pollutant Category', value='GHG')\n",
    "    combustion_dfs[state].insert(loc=9, column='Pollutant Type', value='CO2e')\n",
    "    combustion_dfs[state].insert(loc=10, column = 'Scenario', value = 'Reference')\n",
    "    combustion_dfs[state] = combustion_dfs[state][['Year','State','County', 'Census Tract', 'Sector', 'Source Type',\n",
    "       'Data Category', 'Fuel Type','Fuel Amount', 'Fuel Units', 'Pollutant Category',\n",
    "       'Pollutant Type', 'Annual Emissions', 'Scenario','County Name','Subparts','Latitude','Longitude',\n",
    "       'City Name','Zip Code', 'Parent Companies','Facility Name', 'Ghgrp Id', 'Reported Address']]\n",
    "    combustion_dfs[state].drop(combustion_dfs[state].columns[14:],axis=1, inplace=True)\n",
    "\n",
    "combustion_allstates = pd.concat([combustion_dfs[state] for state in states], ignore_index=True)\n",
    "allstates_countybysource_emissions = pd.concat([allstates_countybysource_emissions,combustion_allstates], ignore_index=True)"
   ]
  },
  {
   "cell_type": "markdown",
   "metadata": {},
   "source": [
    "#### Load and format GHG emissions data from oil/gas/coal sector process emissions"
   ]
  },
  {
   "cell_type": "code",
   "execution_count": 8,
   "metadata": {},
   "outputs": [],
   "source": [
    "process_path = r'../Industrial/EPA GHGRP/Process Emissions/*.xls'\n",
    "process_dfs = {}\n",
    "\n",
    "for state in states:\n",
    "    process_dfs[state]=[]\n",
    "    concat = pd.DataFrame()\n",
    "    for file in glob.glob(process_path):\n",
    "        if state in file:\n",
    "            process=pd.read_excel(file, skiprows=5)\n",
    "            file= file.replace('_',' ')\n",
    "            process['Source Type'] = 'Process Emissions - OilGasCoal'\n",
    "            process_dfs[state].append(process)\n",
    "    for df in process_dfs[state]:\n",
    "        concat = pd.concat([concat, df])\n",
    "    process_dfs[state]=concat\n",
    "    #This is where assignment to census tracts should happen.\n",
    "    \n",
    "    process_dfs[state].columns = [x.title() for x in process_dfs[state].columns]\n",
    "    process_dfs[state].rename(columns={'Reporting Year': 'Year','Ghg Quantity (Metric Tons Co2E)':'Annual Emissions'}, inplace=True)\n",
    "    process_dfs[state].insert(loc=1, column='County',value=process_dfs[state]['County Name'].str.title())\n",
    "    #combustion_dfs[state]['County']=combustion_dfs[state]['County'].replace('County','')\n",
    "    process_dfs[state].insert(loc=2, column='Census Tract',value='')\n",
    "    process_dfs[state].insert(loc=3, column='Sector',value='Industrial')\n",
    "    process_dfs[state].insert(loc=4, column='Data Category',value='P')\n",
    "    process_dfs[state].insert(loc=5, column='Fuel Type',value='N/A')\n",
    "    process_dfs[state].insert(loc=6, column='Fuel Amount',value='N/A')\n",
    "    process_dfs[state].insert(loc=7, column='Fuel Units',value='N/A')\n",
    "    process_dfs[state].insert(loc=8, column='Pollutant Category', value='GHG')\n",
    "    process_dfs[state].insert(loc=9, column='Pollutant Type', value='CO2e')\n",
    "    process_dfs[state].insert(loc=10, column = 'Scenario', value = 'Reference')\n",
    "    process_dfs[state] = process_dfs[state][['Year','State','County', 'Census Tract', 'Sector', 'Source Type',\n",
    "       'Data Category', 'Fuel Type','Fuel Amount', 'Fuel Units', 'Pollutant Category',\n",
    "       'Pollutant Type', 'Annual Emissions', 'Scenario','County Name','Subparts','Latitude','Longitude',\n",
    "       'City Name','Zip Code', 'Parent Companies','Facility Name', 'Ghgrp Id', 'Reported Address']]\n",
    "    process_dfs[state].drop(process_dfs[state].columns[14:],axis=1, inplace=True)\n",
    "\n",
    "process_allstates = pd.concat([process_dfs[state] for state in states], ignore_index=True)\n",
    "allstates_countybysource_emissions = pd.concat([allstates_countybysource_emissions,process_allstates], ignore_index=True)"
   ]
  },
  {
   "cell_type": "code",
   "execution_count": 9,
   "metadata": {},
   "outputs": [],
   "source": [
    "#Still need to add NV and NM transportation data.\n",
    "\n",
    "co_transportation = pd.read_csv('../Transportation/Code Outputs/co_transportationemissions_bycountysource.csv')\n",
    "co_transportation.drop(columns='Unnamed: 0', inplace=True)"
   ]
  },
  {
   "cell_type": "code",
   "execution_count": 10,
   "metadata": {},
   "outputs": [],
   "source": [
    "co_transportation.rename(columns={'County Name': 'County'}, inplace=True)"
   ]
  },
  {
   "cell_type": "code",
   "execution_count": 11,
   "metadata": {},
   "outputs": [],
   "source": [
    "allstates_countybysource_emissions = pd.concat([allstates_countybysource_emissions,co_transportation], ignore_index=True)"
   ]
  },
  {
   "cell_type": "code",
   "execution_count": 19,
   "metadata": {},
   "outputs": [],
   "source": [
    "#allstates_countybysource_emissions.to_csv('../Evolved/countyemissions_transportation_industrial.csv')"
   ]
  },
  {
   "cell_type": "code",
   "execution_count": null,
   "metadata": {},
   "outputs": [],
   "source": []
  },
  {
   "cell_type": "code",
   "execution_count": null,
   "metadata": {},
   "outputs": [],
   "source": []
  }
 ],
 "metadata": {
  "kernelspec": {
   "display_name": "Python 3",
   "language": "python",
   "name": "python3"
  },
  "language_info": {
   "codemirror_mode": {
    "name": "ipython",
    "version": 3
   },
   "file_extension": ".py",
   "mimetype": "text/x-python",
   "name": "python",
   "nbconvert_exporter": "python",
   "pygments_lexer": "ipython3",
   "version": "3.8.3"
  }
 },
 "nbformat": 4,
 "nbformat_minor": 4
}
