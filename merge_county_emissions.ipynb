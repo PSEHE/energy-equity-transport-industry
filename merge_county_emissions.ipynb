{
 "cells": [
  {
   "cell_type": "code",
   "execution_count": 1,
   "metadata": {},
   "outputs": [],
   "source": [
    "import numpy as np\n",
    "import matplotlib.pyplot as plt\n",
    "%matplotlib inline\n",
    "import pandas as pd\n",
    "import glob\n",
    "import csv\n",
    "\n",
    "pd.set_option('display.max_columns', None)"
   ]
  },
  {
   "cell_type": "markdown",
   "metadata": {},
   "source": [
    "## Load and format NEI industrial data (CAPs and HAPs emissions by county)"
   ]
  },
  {
   "cell_type": "code",
   "execution_count": 2,
   "metadata": {},
   "outputs": [],
   "source": [
    "nei_point = pd.read_csv('Industrial/EPA NEI/2017neiApr_point_facilitylevel/2017neiApr_point.csv', low_memory=False)\n",
    "nei_nonpoint = pd.read_csv('Industrial/EPA NEI/2017neiApr_nonpoint/esg_cty_scc_12961.csv', low_memory=False)\n",
    "scc = pd.read_csv('Industrial/scc_fuelcombustion_oilgas.csv')"
   ]
  },
  {
   "cell_type": "code",
   "execution_count": 3,
   "metadata": {},
   "outputs": [],
   "source": [
    "states = ['CO', 'NM', 'NV']\n",
    "dfs = {}"
   ]
  },
  {
   "cell_type": "code",
   "execution_count": 4,
   "metadata": {},
   "outputs": [
    {
     "name": "stderr",
     "output_type": "stream",
     "text": [
      "/Users/AnnieDillon/anaconda3/lib/python3.7/site-packages/ipykernel_launcher.py:4: SettingWithCopyWarning: \n",
      "A value is trying to be set on a copy of a slice from a DataFrame.\n",
      "Try using .loc[row_indexer,col_indexer] = value instead\n",
      "\n",
      "See the caveats in the documentation: https://pandas.pydata.org/pandas-docs/stable/user_guide/indexing.html#returning-a-view-versus-a-copy\n",
      "  after removing the cwd from sys.path.\n"
     ]
    }
   ],
   "source": [
    "for state in states:\n",
    "    dfs[state] = []\n",
    "    point = nei_point[nei_point['state'] == state]\n",
    "    point['naics code'] = point['naics code'].apply(str)\n",
    "    point = point[[x.startswith(('21', '2212', '324110', '33313', '333132', '4247', '447', '486')) for x in point['naics code']]]\n",
    "    point = point[[x.startswith(('2122', '2123', '213114', '213115', '48699', '486990')) == False for x in point['naics code']]]\n",
    "    dfs[state].append(point)\n",
    "    \n",
    "    nonpoint = nei_nonpoint[nei_nonpoint['state'] == state]\n",
    "    nonpoint = nonpoint[nonpoint['scc'].isin(scc['scc'])]\n",
    "    \n",
    "    nonpoint.insert(loc=10, column='Fuel Type', value='N/A')\n",
    "    fuelcomb_inds = nonpoint['sector'].str.contains('Fuel Comb')\n",
    "    nonpoint.loc[fuelcomb_inds,'Fuel Type'] = nonpoint['sector'].str.split().str[-1]\n",
    "    dfs[state].append(nonpoint)\n",
    "    \n",
    "    #point.to_csv('Industrial/{}_nei_point_filtered.csv'.format(state))\n",
    "    #nonpoint.to_csv('Industrial/{}_nei_nonpoint_filtered.csv'.format(state))"
   ]
  },
  {
   "cell_type": "code",
   "execution_count": 5,
   "metadata": {},
   "outputs": [],
   "source": [
    "county_emissions = {}\n",
    "countybysource_emissions = {}\n",
    "\n",
    "for state in states:\n",
    "    point_county = dfs[state][0].groupby(['county','pollutant desc','pollutant type(s)','emissions uom'])['total emissions'].sum().reset_index()\n",
    "    nonpoint_county = dfs[state][1].groupby(['county','pollutant desc','pollutant type(s)','emissions uom'])['total emissions'].sum().reset_index()\n",
    "    county_emissions[state] = pd.concat([point_county, nonpoint_county]).groupby(['county','pollutant desc','pollutant type(s)','emissions uom'])['total emissions'].sum().reset_index()\n",
    "    #county_emissions[state].to_csv('Industrial/{}_industrialemissions_county.csv'.format(state))\n",
    "    \n",
    "    point_edit = dfs[state][0].rename(columns={'naics description': 'Source Type'})\n",
    "    point_edit['data category'] = 'P'\n",
    "    point_edit.insert(loc=10, column='Fuel Type', value='N/A')\n",
    "    point_bycountysource = point_edit.groupby(['county','data category','Source Type','Fuel Type','pollutant desc','pollutant type(s)','emissions uom'])['total emissions'].sum().reset_index()\n",
    "    nonpoint_edit = dfs[state][1].rename(columns={'sector': 'Source Type'})\n",
    "    nonpoint_bycountysource = nonpoint_edit.groupby(['county','data category','Source Type','Fuel Type','pollutant desc','pollutant type(s)','emissions uom'])['total emissions'].sum().reset_index()\n",
    "    countybysource_emissions[state] = pd.concat([point_bycountysource, nonpoint_bycountysource], ignore_index=True)\n",
    "    \n",
    "    #Reformat dataset for energy equity group analysis. \n",
    "    countybysource_emissions[state].insert(loc=0, column='Year',value='2017')\n",
    "    countybysource_emissions[state].insert(loc=1, column='State',value=state)\n",
    "    countybysource_emissions[state].columns = [x.title() for x in countybysource_emissions[state].columns]\n",
    "    countybysource_emissions[state].insert(loc=3, column='Census Tract',value='')\n",
    "    countybysource_emissions[state].insert(loc=4, column='Sector',value='Industrial')\n",
    "    countybysource_emissions[state].insert(loc=8, column='Fuel Amount',value='')\n",
    "    countybysource_emissions[state].insert(loc=9, column='Fuel Units',value='')\n",
    "    countybysource_emissions[state].rename(columns={'Pollutant Type(S)': 'Pollutant Category'}, inplace=True)\n",
    "    countybysource_emissions[state].rename(columns={'Pollutant Desc':'Pollutant Type'}, inplace=True)\n",
    "    countybysource_emissions[state].rename(columns={'Total Emissions':'Annual Emissions'}, inplace=True)\n",
    "    countybysource_emissions[state].insert(loc=14, column = 'Scenario', value = 'Reference')\n",
    "    \n",
    "    ton_inds = countybysource_emissions[state]['Emissions Uom']=='TON'\n",
    "    lb_inds = countybysource_emissions[state]['Emissions Uom']=='LB'\n",
    "    countybysource_emissions[state].loc[ton_inds,'Annual Emissions'] = countybysource_emissions[state]['Annual Emissions'] * 0.907185\n",
    "    countybysource_emissions[state].loc[lb_inds,'Annual Emissions'] = countybysource_emissions[state]['Annual Emissions'] * 0.000453592\n",
    "    countybysource_emissions[state].drop(columns=['Emissions Uom'], axis=1, inplace=True)\n",
    "    #countybysource_emissions[state].to_csv('Industrial/Code Outputs/{}_industrialemissions_bycountysource.csv'.format(state))\n",
    "    "
   ]
  },
  {
   "cell_type": "code",
   "execution_count": 6,
   "metadata": {},
   "outputs": [],
   "source": [
    "allstates_countybysource_emissions=pd.concat([countybysource_emissions[state] for state in states], ignore_index=True)"
   ]
  },
  {
   "cell_type": "markdown",
   "metadata": {},
   "source": [
    "## Load EPA GHGRP industrial data (GHG emissions by county)"
   ]
  },
  {
   "cell_type": "markdown",
   "metadata": {},
   "source": [
    "#### Load and format GHG emissions from industrial combustion"
   ]
  },
  {
   "cell_type": "code",
   "execution_count": 7,
   "metadata": {},
   "outputs": [
    {
     "name": "stderr",
     "output_type": "stream",
     "text": [
      "/Users/AnnieDillon/anaconda3/lib/python3.7/site-packages/pandas/core/frame.py:3997: SettingWithCopyWarning: \n",
      "A value is trying to be set on a copy of a slice from a DataFrame\n",
      "\n",
      "See the caveats in the documentation: https://pandas.pydata.org/pandas-docs/stable/user_guide/indexing.html#returning-a-view-versus-a-copy\n",
      "  errors=errors,\n"
     ]
    }
   ],
   "source": [
    "#These datasets need to be assigned to census tracts. Geopandas methods here: https://github.com/geopandas/geopandas/issues/826\n",
    "\n",
    "states =['Colorado', 'Nevada', 'NewMexico']\n",
    "mapping = {\n",
    "    'Colorado':'CO',\n",
    "    'Nevada':'NV',\n",
    "    'NewMexico':'NM',\n",
    "}\n",
    "\n",
    "combustion_path = r'Industrial/EPA GHGRP/Combustion/*.xls'\n",
    "combustion_dfs = {}\n",
    "\n",
    "for state in states:\n",
    "    combustion_dfs[state]=[]\n",
    "    concat = pd.DataFrame()\n",
    "    for file in glob.glob(combustion_path):\n",
    "        if state in file:\n",
    "            comb=pd.read_excel(file, skiprows=5)\n",
    "            file= file.replace('_',' ')\n",
    "            fueltype = file.split()[-1]\n",
    "            fueltype = fueltype.replace('.xls','')\n",
    "            fueltype = fueltype.replace('Products','')\n",
    "            fueltype = fueltype.replace('Petroleum','Oil')\n",
    "            fueltype = fueltype.replace('NatGas','Natural gas')\n",
    "            comb['Fuel Type'] = fueltype\n",
    "            combustion_dfs[state].append(comb)\n",
    "    for df in combustion_dfs[state]:\n",
    "        concat = pd.concat([concat, df])\n",
    "    combustion_dfs[state]=concat\n",
    "    #This is where assignment to census tracts should happen.\n",
    "    \n",
    "    combustion_dfs[state].columns = [x.title() for x in combustion_dfs[state].columns]\n",
    "    combustion_dfs[state].rename(columns={'Reporting Year': 'Year','Ghg Quantity (Metric Tons Co2E)':'Annual Emissions'}, inplace=True)\n",
    "    combustion_dfs[state].insert(loc=1, column='County',value=combustion_dfs[state]['County Name'].str.title())\n",
    "    #combustion_dfs[state]['County']=combustion_dfs[state]['County'].replace('County','')\n",
    "    combustion_dfs[state].insert(loc=2, column='Census Tract',value='')\n",
    "    combustion_dfs[state].insert(loc=3, column='Sector',value='Industrial')\n",
    "    combustion_dfs[state].insert(loc=4, column='Source Type',value='Fuel Combustion - Industrial')\n",
    "    combustion_dfs[state].insert(loc=5, column='Data Category',value='P')\n",
    "    combustion_dfs[state].insert(loc=6, column='Fuel Amount',value='')\n",
    "    combustion_dfs[state].insert(loc=7, column='Fuel Units',value='')\n",
    "    combustion_dfs[state].insert(loc=8, column='Pollutant Category', value='GHG')\n",
    "    combustion_dfs[state].insert(loc=9, column='Pollutant Type', value='CO2e')\n",
    "    combustion_dfs[state].insert(loc=10, column = 'Scenario', value = 'Reference')\n",
    "    combustion_dfs[state] = combustion_dfs[state][['Year','State','County', 'Census Tract', 'Sector', 'Source Type',\n",
    "       'Data Category', 'Fuel Type','Fuel Amount', 'Fuel Units', 'Pollutant Category',\n",
    "       'Pollutant Type', 'Annual Emissions', 'Scenario','County Name','Subparts','Latitude','Longitude',\n",
    "       'City Name','Zip Code', 'Parent Companies','Facility Name', 'Ghgrp Id', 'Reported Address']]\n",
    "    combustion_dfs[state].drop(combustion_dfs[state].columns[14:],axis=1, inplace=True)\n",
    "\n",
    "combustion_allstates = pd.concat([combustion_dfs[state] for state in states], ignore_index=True)\n",
    "allstates_countybysource_emissions = pd.concat([allstates_countybysource_emissions,combustion_allstates], ignore_index=True)"
   ]
  },
  {
   "cell_type": "markdown",
   "metadata": {},
   "source": [
    "#### Load and format GHG emissions data from oil/gas/coal sector process emissions"
   ]
  },
  {
   "cell_type": "code",
   "execution_count": 8,
   "metadata": {},
   "outputs": [],
   "source": [
    "process_path = r'Industrial/EPA GHGRP/Process Emissions/*.xls'\n",
    "process_dfs = {}\n",
    "\n",
    "for state in states:\n",
    "    process_dfs[state]=[]\n",
    "    concat = pd.DataFrame()\n",
    "    for file in glob.glob(process_path):\n",
    "        if state in file:\n",
    "            process=pd.read_excel(file, skiprows=5)\n",
    "            file= file.replace('_',' ')\n",
    "            process['Source Type'] = 'Process Emissions - OilGasCoal'\n",
    "            process_dfs[state].append(process)\n",
    "    for df in process_dfs[state]:\n",
    "        concat = pd.concat([concat, df])\n",
    "    process_dfs[state]=concat\n",
    "    #This is where assignment to census tracts should happen.\n",
    "    \n",
    "    process_dfs[state].columns = [x.title() for x in process_dfs[state].columns]\n",
    "    process_dfs[state].rename(columns={'Reporting Year': 'Year','Ghg Quantity (Metric Tons Co2E)':'Annual Emissions'}, inplace=True)\n",
    "    process_dfs[state].insert(loc=1, column='County',value=process_dfs[state]['County Name'].str.title())\n",
    "    #combustion_dfs[state]['County']=combustion_dfs[state]['County'].replace('County','')\n",
    "    process_dfs[state].insert(loc=2, column='Census Tract',value='')\n",
    "    process_dfs[state].insert(loc=3, column='Sector',value='Industrial')\n",
    "    process_dfs[state].insert(loc=4, column='Data Category',value='P')\n",
    "    process_dfs[state].insert(loc=5, column='Fuel Type',value='N/A')\n",
    "    process_dfs[state].insert(loc=6, column='Fuel Amount',value='N/A')\n",
    "    process_dfs[state].insert(loc=7, column='Fuel Units',value='N/A')\n",
    "    process_dfs[state].insert(loc=8, column='Pollutant Category', value='GHG')\n",
    "    process_dfs[state].insert(loc=9, column='Pollutant Type', value='CO2e')\n",
    "    process_dfs[state].insert(loc=10, column = 'Scenario', value = 'Reference')\n",
    "    process_dfs[state] = process_dfs[state][['Year','State','County', 'Census Tract', 'Sector', 'Source Type',\n",
    "       'Data Category', 'Fuel Type','Fuel Amount', 'Fuel Units', 'Pollutant Category',\n",
    "       'Pollutant Type', 'Annual Emissions', 'Scenario','County Name','Subparts','Latitude','Longitude',\n",
    "       'City Name','Zip Code', 'Parent Companies','Facility Name', 'Ghgrp Id', 'Reported Address']]\n",
    "    process_dfs[state].drop(process_dfs[state].columns[14:],axis=1, inplace=True)\n",
    "\n",
    "process_allstates = pd.concat([process_dfs[state] for state in states], ignore_index=True)\n",
    "allstates_countybysource_emissions = pd.concat([allstates_countybysource_emissions,process_allstates], ignore_index=True)"
   ]
  },
  {
   "cell_type": "code",
   "execution_count": 9,
   "metadata": {},
   "outputs": [],
   "source": [
    "#Still need to add NV and NM transportation data.\n",
    "\n",
    "co_transportation = pd.read_csv('Transportation/Code Outputs/co_transportationemissions_bycountysource.csv')\n",
    "co_transportation.drop(columns='Unnamed: 0', inplace=True)"
   ]
  },
  {
   "cell_type": "code",
   "execution_count": 10,
   "metadata": {},
   "outputs": [],
   "source": [
    "co_transportation.rename(columns={'County Name': 'County'}, inplace=True)"
   ]
  },
  {
   "cell_type": "code",
   "execution_count": 11,
   "metadata": {},
   "outputs": [],
   "source": [
    "allstates_countybysource_emissions = pd.concat([allstates_countybysource_emissions,co_transportation], ignore_index=True)"
   ]
  },
  {
   "cell_type": "code",
   "execution_count": 19,
   "metadata": {},
   "outputs": [],
   "source": [
    "#allstates_countybysource_emissions.to_csv('Evolved/countyemissions_transportation_industrial.csv')"
   ]
  },
  {
   "cell_type": "code",
   "execution_count": null,
   "metadata": {},
   "outputs": [],
   "source": []
  },
  {
   "cell_type": "code",
   "execution_count": null,
   "metadata": {},
   "outputs": [],
   "source": []
  }
 ],
 "metadata": {
  "kernelspec": {
   "display_name": "Python 3",
   "language": "python",
   "name": "python3"
  },
  "language_info": {
   "codemirror_mode": {
    "name": "ipython",
    "version": 3
   },
   "file_extension": ".py",
   "mimetype": "text/x-python",
   "name": "python",
   "nbconvert_exporter": "python",
   "pygments_lexer": "ipython3",
   "version": "3.7.3"
  }
 },
 "nbformat": 4,
 "nbformat_minor": 4
}
